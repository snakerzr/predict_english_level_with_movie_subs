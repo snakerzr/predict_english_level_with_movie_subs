{
 "cells": [
  {
   "cell_type": "markdown",
   "id": "654ba040-a435-41c4-b837-759a5d58b1dc",
   "metadata": {},
   "source": [
    "1. Создаем датафрейм с названием фильма, уровнем и названием файла с субтитрами\n",
    "    * Удаляем лишние столбцы\n",
    "    * Применяем `.strip()` к названию фильмов (там были переносы строк)\n",
    "    * Заменяем `/` на `_` в названии уровней для корректной работы path строк.\n",
    "    * Собираем список файлов с субтитрами с помощью `os.listdir()`\n",
    "    * С помощью `difflib.get_close_matches()` создаем столбец с названиями файлов субтитров\n",
    "2. Создадим из каждого субтитра plain text (.txt) с помощью `pysubs2` в отдельной папке\n",
    "3. Распределим txt по подпапкам с уровнем сложности для корректной работы `sklearn.datasets.load_files`\n",
    "4. Извлечение мета информации из субтитров (распределение скорости показа, распределение длинны предложений) [**TO DO**]\n",
    "5. Предобработка словаря\n",
    "    * Оставим записи с только 1 словом\n",
    "    * И записи принадлежащие только 1 уровню, а не нескольким сразу (см. раздел)\n",
    "    1. Удаление спец. символов и цифр `re.sub(\"(\\\\W|\\\\d)\",\"\",x)`\n",
    "    2. Приведение к нижнему регистру `.lower()`\n",
    "    3. `nltk.stem.WordNetLemmatizer`\n",
    "6. Ф-ции токенизации и лемматизации текста with `spaCy`\n",
    "7. Исследование уровней [**ONGOIN**]\n",
    "8. Пайплайн для тренировки логистической регрессии [**RAW**]\n",
    "9. Оценка моделей бинарной классификации для каждого уровня [**RAW**]"
   ]
  },
  {
   "cell_type": "markdown",
   "id": "4feb6cb1-38b2-40a4-ade2-c59e0fe7a1b6",
   "metadata": {},
   "source": [
    "## Создаем датафрейм с названием фильма, уровнем и названием файла с субтитрами"
   ]
  },
  {
   "cell_type": "code",
   "execution_count": 1,
   "id": "3f3197a1-b3bb-44d5-bc00-f8ddee092e17",
   "metadata": {},
   "outputs": [],
   "source": [
    "import warnings\n",
    "import os\n",
    "import shutil\n",
    "import pathlib\n",
    "\n",
    "import difflib\n",
    "\n",
    "import pandas as pd\n",
    "\n",
    "import pysubs2\n",
    "\n",
    "import re\n",
    "\n",
    "import spacy\n"
   ]
  },
  {
   "cell_type": "code",
   "execution_count": 2,
   "id": "9888a108-1764-4e48-9fc9-5e246470bfc9",
   "metadata": {},
   "outputs": [],
   "source": [
    "def labels_preproc(path):\n",
    "    labels = pd.read_csv(path)\n",
    "    # labels.columns\n",
    "    labels = labels.drop(columns=['Kinopoisk ','Subtitles'])\n",
    "    labels = labels.sort_values('Movie').reset_index(drop=True)\n",
    "\n",
    "    labels['Movie'] = labels['Movie'].str.strip()\n",
    "\n",
    "    # with pd.option_context(\"display.max_rows\", 300):\n",
    "    #     display(labels['Movie'])\n",
    "    # labels['Movie'].unique()\n",
    "    # labels['Level'].value_counts()\n",
    "\n",
    "    labels.loc[labels['Level'] == 'A2/A2+','Level'] = 'A2_A2+'\n",
    "    # labels.loc[labels['Level'] == 'B1, B2','Level'] = 'A2_A2+'\n",
    "    labels.loc[labels['Level'] == 'A2/A2+, B1','Level'] = 'A2_A2+, B1'\n",
    "    return labels\n",
    "\n",
    "labels = labels_preproc('data/labels.csv')\n",
    "# labels.head()"
   ]
  },
  {
   "cell_type": "code",
   "execution_count": 3,
   "id": "533d975b-e163-4377-8687-a0b81690fa29",
   "metadata": {
    "tags": []
   },
   "outputs": [],
   "source": [
    "def add_subs_file_names(df,path_to_raw_subs):\n",
    "    # Список уже имеющихся субтитров\n",
    "    subs_file_list = os.listdir(path_to_raw_subs)\n",
    "    # subs_file_list = [x.lower() for x in subs_file_list]\n",
    "    # subs_file_list[:5]\n",
    "    # labels.head(1)\n",
    "\n",
    "    # Присваиваем название субтитра по наибольшему совпадению\n",
    "    for movie in df['Movie']:\n",
    "        df.loc[df['Movie'] == movie,'sub_file_name'] = difflib.get_close_matches(movie, subs_file_list,cutoff=0)[0]\n",
    "        \n",
    "    return df\n",
    "        \n",
    "labels = add_subs_file_names(labels,'data/Subtitles_raw/')\n",
    "labels = labels.drop(index=[39,61]) # Удаляем сериалы\n",
    "labels.loc[labels['Movie'] == 'Harry Potter (1)', 'sub_file_name'] = 'Harry_Potter_and_the_philosophers_stone(2001).srt'\n",
    "labels = labels.reset_index(drop=True)"
   ]
  },
  {
   "cell_type": "code",
   "execution_count": 4,
   "id": "931986bb-3166-44b5-acdb-d800bc67d72d",
   "metadata": {},
   "outputs": [],
   "source": [
    "\n",
    "# with pd.option_context(\"display.max_rows\", 300):\n",
    "#     display(labels)"
   ]
  },
  {
   "cell_type": "code",
   "execution_count": null,
   "id": "4cb17791-77db-4c07-8a4b-4270bcedf994",
   "metadata": {},
   "outputs": [],
   "source": []
  },
  {
   "cell_type": "markdown",
   "id": "055f69fc-2c25-4e65-ba5a-3e88d4306bee",
   "metadata": {},
   "source": [
    "## Создадим из каждого субтитра plain text (.txt) с помощью `pysubs2` в отдельной папке"
   ]
  },
  {
   "cell_type": "markdown",
   "id": "3ab63071-6a54-4163-a7a5-9f35f3695fca",
   "metadata": {},
   "source": [
    "Удалить HTML теги просто\n",
    "https://stackoverflow.com/questions/753052/strip-html-from-strings-in-python#:~:text=If%20you%20need%20to%20strip%20HTML"
   ]
  },
  {
   "cell_type": "code",
   "execution_count": 5,
   "id": "7c00fc03-a0d5-478d-8832-03833747147a",
   "metadata": {
    "tags": []
   },
   "outputs": [],
   "source": [
    "def create_plain_text_str(sub_file,delete_html_tags=True):\n",
    "    plain_text = ''\n",
    "    for line in sub_file:  \n",
    "        # plain_text += line.plaintext + ' '\n",
    "        plain_text += line.text + ' '\n",
    "    \n",
    "    # Удаление HTML тегов перенесли в предобработку.\n",
    "    # Нужно помнить, что при открытии файла pysubs2.load\n",
    "    # keep_html_tags должен быть True\n",
    "    # if delete_html_tags:\n",
    "    #     plain_text = re.sub('<[^<]+?>', ' ', plain_text)\n",
    "        \n",
    "    return plain_text\n",
    "\n",
    "\n",
    "# subs = pysubs2.load('data/Subtitles_raw/10_Cloverfield_lane(2016).srt',\n",
    "#                     # keep_html_tags=False,\n",
    "#                     keep_unknown_html_tags=True\n",
    "#                    )\n",
    "\n",
    "# test = create_plain_text_str(subs)\n",
    "# test"
   ]
  },
  {
   "cell_type": "code",
   "execution_count": 6,
   "id": "e908ec3a-572a-4aa9-b2f5-bb05a4f57085",
   "metadata": {},
   "outputs": [],
   "source": [
    "def create_plain_text_files(df, dir_with_subs,dir_with_txt):\n",
    "    pwd = os.path.abspath(os.getcwd())\n",
    "    path_from = os.path.join(pwd, dir_with_subs)\n",
    "    path_to = os.path.join(pwd, dir_with_txt)\n",
    "    \n",
    "    try:\n",
    "        os.mkdir(path_to)\n",
    "    except:\n",
    "        print(dir_with_txt, ' already exists. But that\\'s fine')\n",
    "        \n",
    "    for i in range(len(labels)):\n",
    "        \n",
    "        \n",
    "        sub_name = labels.iloc[i]['sub_file_name']\n",
    "        \n",
    "        path_to_sub_file = os.path.join(path_from,sub_name)\n",
    "      \n",
    "        sub_obj = pysubs2.load(path_to_sub_file,keep_html_tags=True)\n",
    "        \n",
    "        plain_text = create_plain_text_str(sub_obj)\n",
    "        \n",
    "        plain_text_name = sub_name + '.txt'\n",
    "        # print(plain_text_name)\n",
    "        path_to_plain_text_file = os.path.join(path_to,plain_text_name)\n",
    "        \n",
    "        \n",
    "        with open(path_to_plain_text_file, \"w\",encoding=\"utf-8\") as file:\n",
    "            # Writing data to a file\n",
    "            file.write(plain_text)\n",
    "    \n",
    "# create_plain_text_files(labels, 'data\\Subtitles_raw','data\\Subtitles_plain_text')"
   ]
  },
  {
   "cell_type": "markdown",
   "id": "33bb62b0-5bc5-4e3e-a81b-ca6c3fcf9c12",
   "metadata": {},
   "source": [
    "## Распределим txt по подпапкам с уровнем сложности для корректной работы `sklearn.datasets.load_files`"
   ]
  },
  {
   "cell_type": "code",
   "execution_count": 7,
   "id": "1c2353bd-7cb2-4bda-b727-06086874c6a3",
   "metadata": {},
   "outputs": [],
   "source": [
    "# Это мультклассовая разбивка\n",
    "# Еще стоит разделить на бинарные задачи\n",
    "\n",
    "def distribute_into_level_subfolders(labels,dir_with_txt_files,dir_with_level_subfolders):\n",
    "    pwd = os.path.abspath(os.getcwd())\n",
    "    path_from = os.path.join(pwd, dir_with_txt_files)\n",
    "    path_to = os.path.join(pwd, dir_with_level_subfolders)\n",
    "    # print(path_from)\n",
    "    # print(path_to)\n",
    "    \n",
    "    try:\n",
    "        os.mkdir(path_to)\n",
    "    except:\n",
    "        print(dir_with_level_subfolders, ' already exists. But that\\'s fine')\n",
    "        \n",
    "    for i in range(len(labels)):\n",
    "        level = labels.iloc[i]['Level']\n",
    "        txt_name = labels.iloc[i]['sub_file_name'] + '.txt'\n",
    "        \n",
    "        # print(level,txt_name)\n",
    "        \n",
    "        path_from_ = os.path.join(path_from,txt_name)\n",
    "        path_to_level = os.path.join(path_to,level)\n",
    "        path_to_file = os.path.join(path_to_level,txt_name)\n",
    "\n",
    "        # print(path_from_)\n",
    "        # print(path_to_)\n",
    "        try:\n",
    "            shutil.copy(path_from_, path_to_file)\n",
    "        except:\n",
    "            os.mkdir(path_to_level)\n",
    "            shutil.copy(path_from_, path_to_file)\n",
    "    \n",
    "# distribute_into_level_subfolders(labels,'data\\Subtitles_plain_text','data\\Subtitles_multiclass')"
   ]
  },
  {
   "cell_type": "code",
   "execution_count": 8,
   "id": "87ce893d-625e-456f-9932-3d8036261660",
   "metadata": {},
   "outputs": [],
   "source": [
    "# Это мульти бинарная разбивка\n",
    "# Тут столько задач классификации, сколько уровней\n",
    "# По принципу определения А1 уровень и не А1 уровень\n",
    "# И так по каждому уровню\n",
    "\n",
    "def distribute_into_multi_binary_subfolders(labels,dir_with_txt_files,dir_with_multi_binary_subfolders):\n",
    "    pwd = os.path.abspath(os.getcwd())\n",
    "    path_from = os.path.join(pwd, dir_with_txt_files)\n",
    "    path_to = os.path.join(pwd, dir_with_multi_binary_subfolders)\n",
    "    # print(path_from)\n",
    "    # print(path_to)\n",
    "    \n",
    "#     Создаем папку где будут лежать каждая из классификаций\n",
    "    try:\n",
    "        os.mkdir(path_to)\n",
    "    except:\n",
    "        print(dir_with_multi_binary_subfolders, ' already exists. But that\\'s fine')\n",
    "    \n",
    "    for level in labels['Level'].unique():\n",
    "        \n",
    "#         Берем уровень\n",
    "\n",
    "#         Берем субитры этого уровня\n",
    "        the_level = labels.loc[labels['Level'] == level,'sub_file_name']\n",
    "        the_level = the_level + '.txt'\n",
    "        # display(the_level)\n",
    "        \n",
    "        # Берем путь до папки где будут располагаться категории\n",
    "        path_to_level = os.path.join(path_to,level)\n",
    "        # print(path_to_level)\n",
    "        \n",
    "        # Размещаться они будут так:\n",
    "        #     B1/B1\n",
    "        #     B1/not_B1\n",
    "        \n",
    "        # Пробуем создать папку с категорией контретного уровня \n",
    "        try:\n",
    "            os.mkdir(path_to_level)\n",
    "        except:\n",
    "            print(path_to_level, ' already exists. But that\\'s fine')        \n",
    "        \n",
    "        \n",
    "        for txt in the_level:\n",
    "            # Каждый субтитр этого уровня переносим в папку вида B1/B1\n",
    "            path_from_file = os.path.join(path_from,txt)\n",
    "            # print(path_from_file)\n",
    "            path_to_level_level = os.path.join(path_to_level,level)\n",
    "            path_to_file = os.path.join(path_to_level_level,txt)\n",
    "            # print(path_to_file)\n",
    "            try:\n",
    "                shutil.copy(path_from_file, path_to_file)\n",
    "            except:\n",
    "                os.mkdir(path_to_level_level)\n",
    "                shutil.copy(path_from_file, path_to_file)\n",
    "            \n",
    "            # try:\n",
    "            #     os.mkdir\n",
    "        \n",
    "        # Берем субтитры не этого уровня\n",
    "        not_level = labels.loc[labels['Level'] != level,'sub_file_name']\n",
    "        not_level = not_level + '.txt'\n",
    "        \n",
    "        for txt in not_level:\n",
    "            # Каждый этот субтитр переносим в папку вида B1/not_B1\n",
    "            path_from_file = os.path.join(path_from,txt)\n",
    "            # print(path_from_file)\n",
    "            path_to_level_level = os.path.join(path_to_level,'not_' + level)\n",
    "            path_to_file = os.path.join(path_to_level_level,txt)\n",
    "            # print(path_to_file)    \n",
    "            \n",
    "            try:\n",
    "                shutil.copy(path_from_file, path_to_file)\n",
    "            except:\n",
    "                os.mkdir(path_to_level_level)\n",
    "                shutil.copy(path_from_file, path_to_file)\n",
    "        \n",
    "        \n",
    "\n",
    "    \n",
    "# distribute_into_multi_binary_subfolders(labels,'data\\Subtitles_plain_text','data\\Subtitles_multi_binary')"
   ]
  },
  {
   "cell_type": "markdown",
   "id": "9ab2ff8b-d799-4928-8f4e-dbaca5a385b4",
   "metadata": {},
   "source": [
    "## Извлечение мета информации из субтитров (распределение скорости показа, распределение длинны предложений) `[TO DO]`"
   ]
  },
  {
   "cell_type": "markdown",
   "id": "a16e39c6-7f1b-4e24-ac88-5bb3bf376fa8",
   "metadata": {},
   "source": [
    "Для создания распределения скорости показа нужно время показа субтитра (`end_time - start_time`) разделить на кол-во символов в конкретном субтитре. Делается это с помощью `pysubs2`."
   ]
  },
  {
   "cell_type": "markdown",
   "id": "f62181af-4b91-443a-bf07-5c0c5fd442b4",
   "metadata": {},
   "source": [
    "Для создания распределения длинны предложений нужно обработанные субтитры в виде текста (`.txt`) разделить на предложения и посчитать кол-во слов (или напр. кол-во пробелов +1). Эта же процедура позволит посчитать кол-во предложений."
   ]
  },
  {
   "cell_type": "markdown",
   "id": "eb018f1e-18e3-4464-82d7-4d058a604538",
   "metadata": {},
   "source": [
    "## Предобработка словаря"
   ]
  },
  {
   "cell_type": "code",
   "execution_count": 9,
   "id": "61d06a8b-e53a-4348-b530-f2b92dd3a233",
   "metadata": {
    "tags": []
   },
   "outputs": [],
   "source": [
    "\n",
    "# vocab = pd.read_json('vocab/worddata.json')\n",
    "## vocab = pd.json_normalize('vocab/worddata.json')\n",
    "\n",
    "\n",
    "\n",
    "# vocab\n",
    "# vocab[vocab['baseword'] == 'and']\n",
    "# Что такое `'guideword'` и как обрабатывать, что одно слово принадлежит разным уровням?\n",
    "# vocab['level'].value_counts()\n",
    "\n",
    "# Нам не нужны уровни выше B2, поэтому обрежем.\n",
    "# vocab['level'].sort_values().unique().tolist()\n",
    "\n",
    "# levels = ['A1', 'A2', 'B1', 'B2']\n",
    "\n",
    "# vocab.loc[vocab['level'].isin(levels)].count()\n",
    "\n",
    "# vocab = vocab.loc[vocab['level'].isin(levels)]\n",
    "\n",
    "# vocab\n",
    "# test = vocab.groupby('baseword')['level'].unique()\n",
    "# pd.DataFrame(test).head(50)\n",
    "\n",
    "# with pd.option_context(\"display.max_rows\", 300):\n",
    "#     display(pd.DataFrame(test))\n",
    "\n",
    "# stopwords.words('english')"
   ]
  },
  {
   "cell_type": "code",
   "execution_count": 10,
   "id": "52f36867-056f-4837-9cf6-751b45ce7cf5",
   "metadata": {},
   "outputs": [
    {
     "data": {
      "text/html": [
       "<div>\n",
       "<style scoped>\n",
       "    .dataframe tbody tr th:only-of-type {\n",
       "        vertical-align: middle;\n",
       "    }\n",
       "\n",
       "    .dataframe tbody tr th {\n",
       "        vertical-align: top;\n",
       "    }\n",
       "\n",
       "    .dataframe thead th {\n",
       "        text-align: right;\n",
       "    }\n",
       "</style>\n",
       "<table border=\"1\" class=\"dataframe\">\n",
       "  <thead>\n",
       "    <tr style=\"text-align: right;\">\n",
       "      <th></th>\n",
       "      <th>baseword</th>\n",
       "      <th>guideword</th>\n",
       "      <th>level</th>\n",
       "      <th>partofspeech</th>\n",
       "      <th>topic</th>\n",
       "      <th>url</th>\n",
       "    </tr>\n",
       "  </thead>\n",
       "  <tbody>\n",
       "    <tr>\n",
       "      <th>0</th>\n",
       "      <td>cattle</td>\n",
       "      <td>None</td>\n",
       "      <td>B1</td>\n",
       "      <td>None</td>\n",
       "      <td>animals</td>\n",
       "      <td>/british-english/words/detail/817</td>\n",
       "    </tr>\n",
       "    <tr>\n",
       "      <th>1</th>\n",
       "      <td>clothes</td>\n",
       "      <td>None</td>\n",
       "      <td>A1</td>\n",
       "      <td>None</td>\n",
       "      <td>clothes</td>\n",
       "      <td>/british-english/words/detail/972</td>\n",
       "    </tr>\n",
       "    <tr>\n",
       "      <th>2</th>\n",
       "      <td>albeit</td>\n",
       "      <td>None</td>\n",
       "      <td>C2</td>\n",
       "      <td>None</td>\n",
       "      <td>None</td>\n",
       "      <td>/british-english/words/detail/157</td>\n",
       "    </tr>\n",
       "    <tr>\n",
       "      <th>3</th>\n",
       "      <td>and</td>\n",
       "      <td>ALSO</td>\n",
       "      <td>A1</td>\n",
       "      <td>None</td>\n",
       "      <td>communication</td>\n",
       "      <td>/british-english/words/detail/229</td>\n",
       "    </tr>\n",
       "    <tr>\n",
       "      <th>4</th>\n",
       "      <td>and</td>\n",
       "      <td>AFTER</td>\n",
       "      <td>A1</td>\n",
       "      <td>None</td>\n",
       "      <td>communication</td>\n",
       "      <td>/british-english/words/detail/229</td>\n",
       "    </tr>\n",
       "  </tbody>\n",
       "</table>\n",
       "</div>"
      ],
      "text/plain": [
       "  baseword guideword level partofspeech          topic  \\\n",
       "0   cattle      None    B1         None        animals   \n",
       "1  clothes      None    A1         None        clothes   \n",
       "2   albeit      None    C2         None           None   \n",
       "3      and      ALSO    A1         None  communication   \n",
       "4      and     AFTER    A1         None  communication   \n",
       "\n",
       "                                 url  \n",
       "0  /british-english/words/detail/817  \n",
       "1  /british-english/words/detail/972  \n",
       "2  /british-english/words/detail/157  \n",
       "3  /british-english/words/detail/229  \n",
       "4  /british-english/words/detail/229  "
      ]
     },
     "execution_count": 10,
     "metadata": {},
     "output_type": "execute_result"
    }
   ],
   "source": [
    "vocab = pd.read_json('vocab/englishprofile.json')\n",
    "vocab.head()"
   ]
  },
  {
   "cell_type": "markdown",
   "id": "67ad557b-d7e5-472d-8c17-69b7c611ee1e",
   "metadata": {},
   "source": [
    "Нам понадобится только `'baseword'` и `'level'`.   \n",
    "Обратим внимание, что 1 `'baseword'` может принадлежать нескольким уровням.  \n",
    "1. Сгруппируем по `'baseword'` и возьмем `.unique()` от `'level'`\n",
    "2. Предобработам `'baseword'`, чтобы в дальнейшем использовать в качестве словаря для `CountVectorizer` и для исследования распределений слов и уровней.\n",
    "3. Решим как работать со словами, принадлежащими многим уровням"
   ]
  },
  {
   "cell_type": "code",
   "execution_count": 11,
   "id": "41179064-74a6-4b9a-bc81-09a9fd84f012",
   "metadata": {
    "tags": []
   },
   "outputs": [
    {
     "data": {
      "text/html": [
       "<div>\n",
       "<style scoped>\n",
       "    .dataframe tbody tr th:only-of-type {\n",
       "        vertical-align: middle;\n",
       "    }\n",
       "\n",
       "    .dataframe tbody tr th {\n",
       "        vertical-align: top;\n",
       "    }\n",
       "\n",
       "    .dataframe thead th {\n",
       "        text-align: right;\n",
       "    }\n",
       "</style>\n",
       "<table border=\"1\" class=\"dataframe\">\n",
       "  <thead>\n",
       "    <tr style=\"text-align: right;\">\n",
       "      <th></th>\n",
       "      <th>baseword</th>\n",
       "      <th>level</th>\n",
       "    </tr>\n",
       "  </thead>\n",
       "  <tbody>\n",
       "    <tr>\n",
       "      <th>0</th>\n",
       "      <td>all along</td>\n",
       "      <td>[B2]</td>\n",
       "    </tr>\n",
       "    <tr>\n",
       "      <th>1</th>\n",
       "      <td>all in all</td>\n",
       "      <td>[B2]</td>\n",
       "    </tr>\n",
       "    <tr>\n",
       "      <th>2</th>\n",
       "      <td>all of a sudden</td>\n",
       "      <td>[B2]</td>\n",
       "    </tr>\n",
       "    <tr>\n",
       "      <th>3</th>\n",
       "      <td>be used to sb/sth/doing sth</td>\n",
       "      <td>[B1]</td>\n",
       "    </tr>\n",
       "    <tr>\n",
       "      <th>4</th>\n",
       "      <td>bound to do sth</td>\n",
       "      <td>[B2]</td>\n",
       "    </tr>\n",
       "  </tbody>\n",
       "</table>\n",
       "</div>"
      ],
      "text/plain": [
       "                        baseword level\n",
       "0                      all along  [B2]\n",
       "1                     all in all  [B2]\n",
       "2                all of a sudden  [B2]\n",
       "3   be used to sb/sth/doing sth   [B1]\n",
       "4                bound to do sth  [B2]"
      ]
     },
     "execution_count": 11,
     "metadata": {},
     "output_type": "execute_result"
    }
   ],
   "source": [
    "vocab_grouped = pd.DataFrame(vocab.groupby('baseword')['level'].unique())\n",
    "vocab_grouped = vocab_grouped.reset_index()\n",
    "vocab_grouped.head()"
   ]
  },
  {
   "cell_type": "code",
   "execution_count": 12,
   "id": "4bbdc745-1ce2-4d97-8972-3c674a23bd77",
   "metadata": {},
   "outputs": [],
   "source": [
    "vc = vocab_grouped['level'].value_counts()\n"
   ]
  },
  {
   "cell_type": "code",
   "execution_count": 13,
   "id": "afe70abd-0581-4832-83e0-664d772b89d5",
   "metadata": {},
   "outputs": [
    {
     "data": {
      "text/plain": [
       "[B2]        2195\n",
       "[C2]        2085\n",
       "[B1]        1352\n",
       "[C1]        1338\n",
       "[A2]         693\n",
       "[A1]         326\n",
       "[B1, B2]       1\n",
       "Name: level, dtype: int64"
      ]
     },
     "execution_count": 13,
     "metadata": {},
     "output_type": "execute_result"
    }
   ],
   "source": [
    "vc[:7]"
   ]
  },
  {
   "cell_type": "markdown",
   "id": "590f1257-c4c9-4dd9-b490-53bb451560ee",
   "metadata": {},
   "source": [
    "Пока будем использовать слова, принадлежащие только 1 уровню, а не многим сразу."
   ]
  },
  {
   "cell_type": "code",
   "execution_count": 14,
   "id": "0f43fff0-ba6c-441c-bbc1-820a15af28e8",
   "metadata": {},
   "outputs": [],
   "source": [
    "vocab_grouped['level'] = vocab_grouped['level'].apply(lambda x: ''.join(x))\n",
    "vocab_grouped = vocab_grouped[vocab_grouped['level'].isin(['A1','A2','B1','B2','C1','C2'])]"
   ]
  },
  {
   "cell_type": "code",
   "execution_count": 15,
   "id": "34c8803f-4b9d-4df4-90e9-143d528c0e7a",
   "metadata": {},
   "outputs": [
    {
     "data": {
      "text/html": [
       "<div>\n",
       "<style scoped>\n",
       "    .dataframe tbody tr th:only-of-type {\n",
       "        vertical-align: middle;\n",
       "    }\n",
       "\n",
       "    .dataframe tbody tr th {\n",
       "        vertical-align: top;\n",
       "    }\n",
       "\n",
       "    .dataframe thead th {\n",
       "        text-align: right;\n",
       "    }\n",
       "</style>\n",
       "<table border=\"1\" class=\"dataframe\">\n",
       "  <thead>\n",
       "    <tr style=\"text-align: right;\">\n",
       "      <th></th>\n",
       "      <th>baseword</th>\n",
       "      <th>level</th>\n",
       "    </tr>\n",
       "  </thead>\n",
       "  <tbody>\n",
       "    <tr>\n",
       "      <th>0</th>\n",
       "      <td>all along</td>\n",
       "      <td>B2</td>\n",
       "    </tr>\n",
       "    <tr>\n",
       "      <th>1</th>\n",
       "      <td>all in all</td>\n",
       "      <td>B2</td>\n",
       "    </tr>\n",
       "    <tr>\n",
       "      <th>2</th>\n",
       "      <td>all of a sudden</td>\n",
       "      <td>B2</td>\n",
       "    </tr>\n",
       "    <tr>\n",
       "      <th>3</th>\n",
       "      <td>be used to sb/sth/doing sth</td>\n",
       "      <td>B1</td>\n",
       "    </tr>\n",
       "    <tr>\n",
       "      <th>4</th>\n",
       "      <td>bound to do sth</td>\n",
       "      <td>B2</td>\n",
       "    </tr>\n",
       "    <tr>\n",
       "      <th>...</th>\n",
       "      <td>...</td>\n",
       "      <td>...</td>\n",
       "    </tr>\n",
       "    <tr>\n",
       "      <th>9757</th>\n",
       "      <td>youth</td>\n",
       "      <td>B1</td>\n",
       "    </tr>\n",
       "    <tr>\n",
       "      <th>9758</th>\n",
       "      <td>zebra</td>\n",
       "      <td>B2</td>\n",
       "    </tr>\n",
       "    <tr>\n",
       "      <th>9760</th>\n",
       "      <td>zip</td>\n",
       "      <td>B2</td>\n",
       "    </tr>\n",
       "    <tr>\n",
       "      <th>9761</th>\n",
       "      <td>zone</td>\n",
       "      <td>B1</td>\n",
       "    </tr>\n",
       "    <tr>\n",
       "      <th>9762</th>\n",
       "      <td>zoo</td>\n",
       "      <td>A1</td>\n",
       "    </tr>\n",
       "  </tbody>\n",
       "</table>\n",
       "<p>7989 rows × 2 columns</p>\n",
       "</div>"
      ],
      "text/plain": [
       "                           baseword level\n",
       "0                         all along    B2\n",
       "1                        all in all    B2\n",
       "2                   all of a sudden    B2\n",
       "3      be used to sb/sth/doing sth     B1\n",
       "4                   bound to do sth    B2\n",
       "...                             ...   ...\n",
       "9757                          youth    B1\n",
       "9758                          zebra    B2\n",
       "9760                            zip    B2\n",
       "9761                           zone    B1\n",
       "9762                            zoo    A1\n",
       "\n",
       "[7989 rows x 2 columns]"
      ]
     },
     "execution_count": 15,
     "metadata": {},
     "output_type": "execute_result"
    }
   ],
   "source": [
    "vocab_grouped"
   ]
  },
  {
   "cell_type": "code",
   "execution_count": 16,
   "id": "b4241f12-9f3e-49fb-a1a6-7780176c67c3",
   "metadata": {},
   "outputs": [],
   "source": [
    "vocab_grouped['word_count'] = vocab_grouped['baseword'].str.split().apply(lambda x: len(x))"
   ]
  },
  {
   "cell_type": "code",
   "execution_count": 17,
   "id": "c580a5dd-a606-45b2-a839-ba7b106c4e21",
   "metadata": {},
   "outputs": [
    {
     "data": {
      "text/html": [
       "<div>\n",
       "<style scoped>\n",
       "    .dataframe tbody tr th:only-of-type {\n",
       "        vertical-align: middle;\n",
       "    }\n",
       "\n",
       "    .dataframe tbody tr th {\n",
       "        vertical-align: top;\n",
       "    }\n",
       "\n",
       "    .dataframe thead th {\n",
       "        text-align: right;\n",
       "    }\n",
       "</style>\n",
       "<table border=\"1\" class=\"dataframe\">\n",
       "  <thead>\n",
       "    <tr style=\"text-align: right;\">\n",
       "      <th></th>\n",
       "      <th>baseword</th>\n",
       "      <th>level</th>\n",
       "      <th>word_count</th>\n",
       "    </tr>\n",
       "  </thead>\n",
       "  <tbody>\n",
       "    <tr>\n",
       "      <th>0</th>\n",
       "      <td>all along</td>\n",
       "      <td>B2</td>\n",
       "      <td>2</td>\n",
       "    </tr>\n",
       "    <tr>\n",
       "      <th>1</th>\n",
       "      <td>all in all</td>\n",
       "      <td>B2</td>\n",
       "      <td>3</td>\n",
       "    </tr>\n",
       "    <tr>\n",
       "      <th>2</th>\n",
       "      <td>all of a sudden</td>\n",
       "      <td>B2</td>\n",
       "      <td>4</td>\n",
       "    </tr>\n",
       "    <tr>\n",
       "      <th>3</th>\n",
       "      <td>be used to sb/sth/doing sth</td>\n",
       "      <td>B1</td>\n",
       "      <td>5</td>\n",
       "    </tr>\n",
       "    <tr>\n",
       "      <th>4</th>\n",
       "      <td>bound to do sth</td>\n",
       "      <td>B2</td>\n",
       "      <td>4</td>\n",
       "    </tr>\n",
       "  </tbody>\n",
       "</table>\n",
       "</div>"
      ],
      "text/plain": [
       "                        baseword level  word_count\n",
       "0                      all along    B2           2\n",
       "1                     all in all    B2           3\n",
       "2                all of a sudden    B2           4\n",
       "3   be used to sb/sth/doing sth     B1           5\n",
       "4                bound to do sth    B2           4"
      ]
     },
     "execution_count": 17,
     "metadata": {},
     "output_type": "execute_result"
    }
   ],
   "source": [
    "vocab_grouped.head()"
   ]
  },
  {
   "cell_type": "markdown",
   "id": "c2422f3c-858b-4f04-8c5f-5d54946c9054",
   "metadata": {},
   "source": [
    "Оставим слова, где только 1 слово."
   ]
  },
  {
   "cell_type": "code",
   "execution_count": 18,
   "id": "a8ccf012-777c-44cf-8788-00ff5ecfd7d7",
   "metadata": {},
   "outputs": [],
   "source": [
    "vocab_grouped = vocab_grouped[vocab_grouped['word_count'] == 1]"
   ]
  },
  {
   "cell_type": "code",
   "execution_count": 19,
   "id": "60fb45cc-ca8a-436f-b2e5-e2233af21ce3",
   "metadata": {},
   "outputs": [
    {
     "data": {
      "text/html": [
       "<div>\n",
       "<style scoped>\n",
       "    .dataframe tbody tr th:only-of-type {\n",
       "        vertical-align: middle;\n",
       "    }\n",
       "\n",
       "    .dataframe tbody tr th {\n",
       "        vertical-align: top;\n",
       "    }\n",
       "\n",
       "    .dataframe thead th {\n",
       "        text-align: right;\n",
       "    }\n",
       "</style>\n",
       "<table border=\"1\" class=\"dataframe\">\n",
       "  <thead>\n",
       "    <tr style=\"text-align: right;\">\n",
       "      <th></th>\n",
       "      <th>baseword</th>\n",
       "      <th>level</th>\n",
       "      <th>word_count</th>\n",
       "    </tr>\n",
       "  </thead>\n",
       "  <tbody>\n",
       "    <tr>\n",
       "      <th>49</th>\n",
       "      <td>Absolutely!</td>\n",
       "      <td>C1</td>\n",
       "      <td>1</td>\n",
       "    </tr>\n",
       "    <tr>\n",
       "      <th>51</th>\n",
       "      <td>April</td>\n",
       "      <td>A1</td>\n",
       "      <td>1</td>\n",
       "    </tr>\n",
       "    <tr>\n",
       "      <th>52</th>\n",
       "      <td>August</td>\n",
       "      <td>A1</td>\n",
       "      <td>1</td>\n",
       "    </tr>\n",
       "    <tr>\n",
       "      <th>53</th>\n",
       "      <td>CD</td>\n",
       "      <td>A1</td>\n",
       "      <td>1</td>\n",
       "    </tr>\n",
       "    <tr>\n",
       "      <th>55</th>\n",
       "      <td>CD-ROM</td>\n",
       "      <td>B1</td>\n",
       "      <td>1</td>\n",
       "    </tr>\n",
       "  </tbody>\n",
       "</table>\n",
       "</div>"
      ],
      "text/plain": [
       "       baseword level  word_count\n",
       "49  Absolutely!    C1           1\n",
       "51        April    A1           1\n",
       "52       August    A1           1\n",
       "53           CD    A1           1\n",
       "55       CD-ROM    B1           1"
      ]
     },
     "execution_count": 19,
     "metadata": {},
     "output_type": "execute_result"
    }
   ],
   "source": [
    "vocab_grouped.head()"
   ]
  },
  {
   "cell_type": "markdown",
   "id": "d6daa4ae-6d6e-4ac4-a211-ab09dfa94337",
   "metadata": {},
   "source": [
    "Удалим символы и знаки препинания."
   ]
  },
  {
   "cell_type": "code",
   "execution_count": 20,
   "id": "ce31fbfa-abe4-4853-b950-207cd1fdcc56",
   "metadata": {},
   "outputs": [
    {
     "name": "stderr",
     "output_type": "stream",
     "text": [
      "C:\\Users\\SnakeRZR\\AppData\\Local\\Temp\\ipykernel_18352\\3102664304.py:1: SettingWithCopyWarning: \n",
      "A value is trying to be set on a copy of a slice from a DataFrame.\n",
      "Try using .loc[row_indexer,col_indexer] = value instead\n",
      "\n",
      "See the caveats in the documentation: https://pandas.pydata.org/pandas-docs/stable/user_guide/indexing.html#returning-a-view-versus-a-copy\n",
      "  vocab_grouped.loc[:,'baseword'] = vocab_grouped['baseword'].apply(lambda x: re.sub(\"(\\\\W|\\\\d)\",\"\",x))\n"
     ]
    },
    {
     "data": {
      "text/html": [
       "<div>\n",
       "<style scoped>\n",
       "    .dataframe tbody tr th:only-of-type {\n",
       "        vertical-align: middle;\n",
       "    }\n",
       "\n",
       "    .dataframe tbody tr th {\n",
       "        vertical-align: top;\n",
       "    }\n",
       "\n",
       "    .dataframe thead th {\n",
       "        text-align: right;\n",
       "    }\n",
       "</style>\n",
       "<table border=\"1\" class=\"dataframe\">\n",
       "  <thead>\n",
       "    <tr style=\"text-align: right;\">\n",
       "      <th></th>\n",
       "      <th>baseword</th>\n",
       "      <th>level</th>\n",
       "      <th>word_count</th>\n",
       "    </tr>\n",
       "  </thead>\n",
       "  <tbody>\n",
       "    <tr>\n",
       "      <th>49</th>\n",
       "      <td>Absolutely</td>\n",
       "      <td>C1</td>\n",
       "      <td>1</td>\n",
       "    </tr>\n",
       "    <tr>\n",
       "      <th>51</th>\n",
       "      <td>April</td>\n",
       "      <td>A1</td>\n",
       "      <td>1</td>\n",
       "    </tr>\n",
       "    <tr>\n",
       "      <th>52</th>\n",
       "      <td>August</td>\n",
       "      <td>A1</td>\n",
       "      <td>1</td>\n",
       "    </tr>\n",
       "    <tr>\n",
       "      <th>53</th>\n",
       "      <td>CD</td>\n",
       "      <td>A1</td>\n",
       "      <td>1</td>\n",
       "    </tr>\n",
       "    <tr>\n",
       "      <th>55</th>\n",
       "      <td>CDROM</td>\n",
       "      <td>B1</td>\n",
       "      <td>1</td>\n",
       "    </tr>\n",
       "  </tbody>\n",
       "</table>\n",
       "</div>"
      ],
      "text/plain": [
       "      baseword level  word_count\n",
       "49  Absolutely    C1           1\n",
       "51       April    A1           1\n",
       "52      August    A1           1\n",
       "53          CD    A1           1\n",
       "55       CDROM    B1           1"
      ]
     },
     "execution_count": 20,
     "metadata": {},
     "output_type": "execute_result"
    }
   ],
   "source": [
    "vocab_grouped.loc[:,'baseword'] = vocab_grouped['baseword'].apply(lambda x: re.sub(\"(\\\\W|\\\\d)\",\"\",x))\n",
    "vocab_grouped.head()"
   ]
  },
  {
   "cell_type": "markdown",
   "id": "c3eeccfa-90c3-417b-b45e-8189e395f47d",
   "metadata": {},
   "source": [
    "Приведем все к нижнему регистру."
   ]
  },
  {
   "cell_type": "code",
   "execution_count": 21,
   "id": "8ccb8720-c70f-41ee-a46a-9a2deb2ba099",
   "metadata": {},
   "outputs": [
    {
     "name": "stderr",
     "output_type": "stream",
     "text": [
      "C:\\Users\\SnakeRZR\\AppData\\Local\\Temp\\ipykernel_18352\\2602915212.py:1: SettingWithCopyWarning: \n",
      "A value is trying to be set on a copy of a slice from a DataFrame.\n",
      "Try using .loc[row_indexer,col_indexer] = value instead\n",
      "\n",
      "See the caveats in the documentation: https://pandas.pydata.org/pandas-docs/stable/user_guide/indexing.html#returning-a-view-versus-a-copy\n",
      "  vocab_grouped['baseword'] = vocab_grouped['baseword'].str.lower()\n"
     ]
    }
   ],
   "source": [
    "vocab_grouped['baseword'] = vocab_grouped['baseword'].str.lower()"
   ]
  },
  {
   "cell_type": "code",
   "execution_count": 22,
   "id": "e7958854-7a8b-4aec-b57c-bef2c4ae3eef",
   "metadata": {},
   "outputs": [
    {
     "data": {
      "text/html": [
       "<div>\n",
       "<style scoped>\n",
       "    .dataframe tbody tr th:only-of-type {\n",
       "        vertical-align: middle;\n",
       "    }\n",
       "\n",
       "    .dataframe tbody tr th {\n",
       "        vertical-align: top;\n",
       "    }\n",
       "\n",
       "    .dataframe thead th {\n",
       "        text-align: right;\n",
       "    }\n",
       "</style>\n",
       "<table border=\"1\" class=\"dataframe\">\n",
       "  <thead>\n",
       "    <tr style=\"text-align: right;\">\n",
       "      <th></th>\n",
       "      <th>baseword</th>\n",
       "      <th>level</th>\n",
       "      <th>word_count</th>\n",
       "    </tr>\n",
       "  </thead>\n",
       "  <tbody>\n",
       "    <tr>\n",
       "      <th>49</th>\n",
       "      <td>absolutely</td>\n",
       "      <td>C1</td>\n",
       "      <td>1</td>\n",
       "    </tr>\n",
       "    <tr>\n",
       "      <th>51</th>\n",
       "      <td>april</td>\n",
       "      <td>A1</td>\n",
       "      <td>1</td>\n",
       "    </tr>\n",
       "    <tr>\n",
       "      <th>52</th>\n",
       "      <td>august</td>\n",
       "      <td>A1</td>\n",
       "      <td>1</td>\n",
       "    </tr>\n",
       "    <tr>\n",
       "      <th>53</th>\n",
       "      <td>cd</td>\n",
       "      <td>A1</td>\n",
       "      <td>1</td>\n",
       "    </tr>\n",
       "    <tr>\n",
       "      <th>55</th>\n",
       "      <td>cdrom</td>\n",
       "      <td>B1</td>\n",
       "      <td>1</td>\n",
       "    </tr>\n",
       "  </tbody>\n",
       "</table>\n",
       "</div>"
      ],
      "text/plain": [
       "      baseword level  word_count\n",
       "49  absolutely    C1           1\n",
       "51       april    A1           1\n",
       "52      august    A1           1\n",
       "53          cd    A1           1\n",
       "55       cdrom    B1           1"
      ]
     },
     "execution_count": 22,
     "metadata": {},
     "output_type": "execute_result"
    }
   ],
   "source": [
    "vocab_grouped.head()"
   ]
  },
  {
   "cell_type": "code",
   "execution_count": 23,
   "id": "9350bb5b-0a40-44cc-8e84-7d17b871639e",
   "metadata": {},
   "outputs": [],
   "source": [
    "vocab_grouped = vocab_grouped.drop(columns=['word_count']).reset_index(drop=True)"
   ]
  },
  {
   "cell_type": "code",
   "execution_count": 24,
   "id": "d0626229-7ed3-4abd-9a65-32f76fae4fef",
   "metadata": {},
   "outputs": [],
   "source": [
    "import nltk\n",
    "import pandas as pd\n",
    "import re\n",
    "# from nltk.stem import PorterStemmer\n",
    "from nltk.stem import WordNetLemmatizer \n",
    "\n",
    "word_net = WordNetLemmatizer() \n",
    "\n",
    "vocab_grouped['baseword'] = vocab_grouped['baseword'].apply(lambda x: word_net.lemmatize(x))"
   ]
  },
  {
   "cell_type": "code",
   "execution_count": 25,
   "id": "9c8838c3-d883-4636-82b9-f701851333fa",
   "metadata": {},
   "outputs": [
    {
     "data": {
      "text/html": [
       "<div>\n",
       "<style scoped>\n",
       "    .dataframe tbody tr th:only-of-type {\n",
       "        vertical-align: middle;\n",
       "    }\n",
       "\n",
       "    .dataframe tbody tr th {\n",
       "        vertical-align: top;\n",
       "    }\n",
       "\n",
       "    .dataframe thead th {\n",
       "        text-align: right;\n",
       "    }\n",
       "</style>\n",
       "<table border=\"1\" class=\"dataframe\">\n",
       "  <thead>\n",
       "    <tr style=\"text-align: right;\">\n",
       "      <th></th>\n",
       "      <th>baseword</th>\n",
       "      <th>level</th>\n",
       "    </tr>\n",
       "  </thead>\n",
       "  <tbody>\n",
       "    <tr>\n",
       "      <th>0</th>\n",
       "      <td>absolutely</td>\n",
       "      <td>C1</td>\n",
       "    </tr>\n",
       "    <tr>\n",
       "      <th>1</th>\n",
       "      <td>april</td>\n",
       "      <td>A1</td>\n",
       "    </tr>\n",
       "    <tr>\n",
       "      <th>2</th>\n",
       "      <td>august</td>\n",
       "      <td>A1</td>\n",
       "    </tr>\n",
       "    <tr>\n",
       "      <th>3</th>\n",
       "      <td>cd</td>\n",
       "      <td>A1</td>\n",
       "    </tr>\n",
       "    <tr>\n",
       "      <th>4</th>\n",
       "      <td>cdrom</td>\n",
       "      <td>B1</td>\n",
       "    </tr>\n",
       "    <tr>\n",
       "      <th>...</th>\n",
       "      <td>...</td>\n",
       "      <td>...</td>\n",
       "    </tr>\n",
       "    <tr>\n",
       "      <th>4873</th>\n",
       "      <td>youth</td>\n",
       "      <td>B1</td>\n",
       "    </tr>\n",
       "    <tr>\n",
       "      <th>4874</th>\n",
       "      <td>zebra</td>\n",
       "      <td>B2</td>\n",
       "    </tr>\n",
       "    <tr>\n",
       "      <th>4875</th>\n",
       "      <td>zip</td>\n",
       "      <td>B2</td>\n",
       "    </tr>\n",
       "    <tr>\n",
       "      <th>4876</th>\n",
       "      <td>zone</td>\n",
       "      <td>B1</td>\n",
       "    </tr>\n",
       "    <tr>\n",
       "      <th>4877</th>\n",
       "      <td>zoo</td>\n",
       "      <td>A1</td>\n",
       "    </tr>\n",
       "  </tbody>\n",
       "</table>\n",
       "<p>4878 rows × 2 columns</p>\n",
       "</div>"
      ],
      "text/plain": [
       "        baseword level\n",
       "0     absolutely    C1\n",
       "1          april    A1\n",
       "2         august    A1\n",
       "3             cd    A1\n",
       "4          cdrom    B1\n",
       "...          ...   ...\n",
       "4873       youth    B1\n",
       "4874       zebra    B2\n",
       "4875         zip    B2\n",
       "4876        zone    B1\n",
       "4877         zoo    A1\n",
       "\n",
       "[4878 rows x 2 columns]"
      ]
     },
     "execution_count": 25,
     "metadata": {},
     "output_type": "execute_result"
    }
   ],
   "source": [
    "vocab_grouped"
   ]
  },
  {
   "cell_type": "code",
   "execution_count": 26,
   "id": "497b78a0-a80e-4789-8351-054744b5ab17",
   "metadata": {},
   "outputs": [],
   "source": [
    "vocab_grouped = vocab_grouped.drop_duplicates()"
   ]
  },
  {
   "cell_type": "markdown",
   "id": "3d6474c5-ac78-4ade-ad89-dc40257b695f",
   "metadata": {},
   "source": [
    "Создадим словарь в виде списка."
   ]
  },
  {
   "cell_type": "code",
   "execution_count": 27,
   "id": "4daf05f9-1778-4455-b785-dbfb04ca2c1e",
   "metadata": {},
   "outputs": [],
   "source": [
    "vocab_for_cvect = vocab_grouped['baseword'].unique().tolist()"
   ]
  },
  {
   "cell_type": "code",
   "execution_count": 28,
   "id": "121540b2-449d-468d-a5b7-d99c86151549",
   "metadata": {},
   "outputs": [],
   "source": [
    "# vocab_for_cvect"
   ]
  },
  {
   "cell_type": "markdown",
   "id": "13f3aa2a-df08-4fd7-b4be-395f09a5ddd0",
   "metadata": {},
   "source": [
    "Для обработки словаря мы использовали:\n",
    "1. Удаление спец. символов и цифр `re.sub(\"(\\\\W|\\\\d)\",\"\",x)`\n",
    "2. Приведение к нижнему регистру `.lower()`\n",
    "3. `nltk.stem.WordNetLemmatizer`"
   ]
  },
  {
   "cell_type": "code",
   "execution_count": 29,
   "id": "4779dc0c-5d3f-48a1-acce-3945a76752a9",
   "metadata": {},
   "outputs": [],
   "source": [
    "# Очистим `'baseword'` от самых встречающихся слов.\n",
    "# cvect = CountVectorizer()\n",
    "# vocab_string = ' '.join(vocab_grouped.index\\\n",
    "#                         # .apply(str_clean)\n",
    "#                         # .apply(lemmatize_text)\n",
    "#                         .unique().tolist())\n",
    "# vocab_cvect = cvect.fit_transform([vocab_string])\n",
    "# vocab_cvect = pd.DataFrame(vocab_cvect.toarray(),columns = cvect.get_feature_names_out()).T\n",
    "# vocab_cvect.sort_values(0,ascending=False).head(50)"
   ]
  },
  {
   "cell_type": "markdown",
   "id": "a2c80b7d-168b-44af-8810-fca9f0849d55",
   "metadata": {},
   "source": [
    "## Ф-ции токенизации и лемматизации текста\n",
    "Для исследования уровней сложности английского языка с помощью словаря нам нужно привести текст в табличный вид."
   ]
  },
  {
   "cell_type": "code",
   "execution_count": 30,
   "id": "8c6c384e-03b2-4ae3-98b2-b0b10455c929",
   "metadata": {
    "tags": []
   },
   "outputs": [],
   "source": [
    "# =====================\n",
    "# НЕ ИСПОЛЬЗУЕМ\n",
    "# =====================\n",
    "def tokenize_for_wordnet(text:str) -> list:\n",
    "    \n",
    "    # Удаляем все html теги\n",
    "    text = re.sub('<[^<]+?>', ' ', text)\n",
    "\n",
    "    # Удалим . ? , '\n",
    "    text = re.sub('(\\.|\\?|,|\\')','',text)\n",
    "    \n",
    "    # Удаление оcтальных спец символов и цифр\n",
    "    text = re.sub(\"(\\\\W|\\\\d)\",\" \",text)\n",
    "    \n",
    "    text = text.lower().split()\n",
    "    \n",
    "    return text\n",
    "\n",
    "# path_to_sub_test = 'data/Subtitles_plain_text/10_Cloverfield_lane(2016).srt.txt'\n",
    "# with open(path_to_sub_test, 'r') as f:\n",
    "#     test_text = f.read()\n",
    "    \n",
    "# tokenize(test_text)[:1000]"
   ]
  },
  {
   "cell_type": "code",
   "execution_count": 31,
   "id": "1a7413d1-afe6-4eb3-ad30-3606776aafa7",
   "metadata": {
    "tags": []
   },
   "outputs": [],
   "source": [
    "# =====================\n",
    "# НЕ ИСПОЛЬЗУЕМ\n",
    "# =====================\n",
    "def lemmatize_wordnet(token_list) -> list:\n",
    "    # result = []\n",
    "    word_net = WordNetLemmatizer() \n",
    "    result = [word_net.lemmatize(token) for token in token_list]\n",
    "    return result\n",
    "\n",
    "# path_to_sub_test = 'data/Subtitles_plain_text/10_Cloverfield_lane(2016).srt.txt'\n",
    "# with open(path_to_sub_test, 'r') as f:\n",
    "#     test_text = f.read()\n",
    "    \n",
    "# token_list =  tokenize(test_text)[:1000]\n",
    "\n",
    "# lemmatize_wordnet(token_list)"
   ]
  },
  {
   "cell_type": "markdown",
   "id": "927ac156-9689-42cd-9cfe-2a247eadfc5f",
   "metadata": {},
   "source": [
    "Здесь последовательно 4 функции для токенизации и лемматизации текста с помощью `spaCy`.  \n",
    "И 5 объединяющая."
   ]
  },
  {
   "cell_type": "code",
   "execution_count": 32,
   "id": "f930b90f-06c4-4f21-b0d5-69ca0ce84f26",
   "metadata": {},
   "outputs": [],
   "source": [
    "def tokenize_for_spacy(text:str) -> str:\n",
    "    \n",
    "    # Удаляем все html теги\n",
    "    text = re.sub('<[^<]+?>', ' ', text)\n",
    "\n",
    "    # Удалим . ? , '\n",
    "    # text = re.sub('(\\.|\\?|,|\\')','',text)\n",
    "    \n",
    "    # Удалим '\n",
    "    # text = re.sub('\\'','',text)\n",
    "    \n",
    "    # Удаление оcтальных спец символов и цифр\n",
    "    # text = re.sub(\"(\\\\W|\\\\d)\",\" \",text)\n",
    "    \n",
    "    text = text.lower()\n",
    "    \n",
    "    return text\n",
    "\n",
    "# path_to_sub_test = 'data/Subtitles_plain_text/10_Cloverfield_lane(2016).srt.txt'\n",
    "# with open(path_to_sub_test, 'r') as f:\n",
    "#     test_text = f.read()\n",
    "\n",
    "# test = tokenize_for_spacy(test_text)"
   ]
  },
  {
   "cell_type": "code",
   "execution_count": 33,
   "id": "afe415a3-1d52-4e11-bc9a-11427c3d7152",
   "metadata": {
    "tags": []
   },
   "outputs": [],
   "source": [
    "\n",
    "def lemmatize_spacy(text:str,spacy_nlp) -> str:\n",
    "    str_ = spacy_nlp(text)\n",
    "    result = \" \".join([token.lemma_ for token in str_])\n",
    "    return result\n",
    "\n",
    "\n",
    "# path_to_sub_test = 'data/Subtitles_plain_text/10_Cloverfield_lane(2016).srt.txt'\n",
    "# with open(path_to_sub_test, 'r') as f:\n",
    "#     test_text = f.read()\n",
    "# test = tokenize_for_spacy(test_text)\n",
    "\n",
    "# nlp = spacy.load('en_core_web_sm', disable=['parser', 'ner'])\n",
    "# lemmatize_spacy(test,nlp)"
   ]
  },
  {
   "cell_type": "code",
   "execution_count": 34,
   "id": "5e43bf19-ffd0-4dc6-a01f-c261f16e9ab7",
   "metadata": {
    "tags": []
   },
   "outputs": [],
   "source": [
    "def clean_up_for_spacy(text:str) -> str:\n",
    "    # Удаление оcтальных спец символов и цифр\n",
    "    text = re.sub(\"(\\\\W|\\\\d)\",\" \",text)\n",
    "    return text\n",
    "\n",
    "# path_to_sub_test = 'data/Subtitles_plain_text/10_Cloverfield_lane(2016).srt.txt'\n",
    "# with open(path_to_sub_test, 'r') as f:\n",
    "#     test_text = f.read()\n",
    "# test = tokenize_for_spacy(test_text)\n",
    "# nlp = spacy.load('en_core_web_sm', disable=['parser', 'ner'])\n",
    "# test = lemmatize_spacy(test,nlp)\n",
    "\n",
    "# clean_up_for_spacy(test)"
   ]
  },
  {
   "cell_type": "code",
   "execution_count": 35,
   "id": "22ad367d-970a-48a9-a66d-43fdba4920bb",
   "metadata": {
    "tags": []
   },
   "outputs": [],
   "source": [
    "def final_split(text:str) -> list:\n",
    "    return text.split()\n",
    "\n",
    "# path_to_sub_test = 'data/Subtitles_plain_text/10_Cloverfield_lane(2016).srt.txt'\n",
    "# with open(path_to_sub_test, 'r') as f:\n",
    "#     test_text = f.read()\n",
    "# test = tokenize_for_spacy(test_text)\n",
    "# nlp = spacy.load('en_core_web_sm', disable=['parser', 'ner'])\n",
    "# test = lemmatize_spacy(test,nlp)\n",
    "# test = clean_up_for_spacy(test)\n",
    "\n",
    "# final_split(test)"
   ]
  },
  {
   "cell_type": "code",
   "execution_count": 36,
   "id": "f95bd0c0-4502-4a87-b76b-5e7fa97f204a",
   "metadata": {
    "tags": []
   },
   "outputs": [],
   "source": [
    "def spacy_str_preproc(text,spacy_nlp) -> list:\n",
    "    text = tokenize_for_spacy(text)\n",
    "    text = lemmatize_spacy(text,spacy_nlp)\n",
    "    text = clean_up_for_spacy(text)\n",
    "    text = final_split(text)\n",
    "    return text\n",
    "\n",
    "# path_to_sub_test = 'data/Subtitles_plain_text/10_Cloverfield_lane(2016).srt.txt'\n",
    "# with open(path_to_sub_test, 'r') as f:\n",
    "#     test_text = f.read()\n",
    "\n",
    "# nlp = spacy.load('en_core_web_sm', disable=['parser', 'ner'])\n",
    "# spacy_str_preproc(test_text,nlp)"
   ]
  },
  {
   "cell_type": "markdown",
   "id": "24439174-2750-4d5b-882c-fbba76f663cd",
   "metadata": {},
   "source": [
    "## Исследование уровней `[ONGOING]`"
   ]
  },
  {
   "cell_type": "markdown",
   "id": "f4fb6954-fc3b-4b7d-a882-3a5484a12059",
   "metadata": {},
   "source": [
    "Цели:\n",
    "1. Сравнить распределения кол-ва слов каждого уровня сложности в фильмах с различными таргетами (с помощью словаря)\n",
    "2. Сравнить длинну предложений в фильмах разного уровня сложности\n",
    "3. Сравнить скорость показа субтитров -//-\n",
    "4. Сравнить кол-во слов не попавших в словарь их кол-во уникальных слов (`count` и `nunique`)"
   ]
  },
  {
   "cell_type": "code",
   "execution_count": 37,
   "id": "ef09a1b9-c184-4003-8de3-fea274f949d5",
   "metadata": {},
   "outputs": [],
   "source": [
    "pwd = os.path.abspath(os.getcwd())\n",
    "nlp = spacy.load('en_core_web_sm', disable=['parser', 'ner'])\n",
    "\n",
    "word_level_counts = pd.DataFrame()\n",
    "\n",
    "for sub_txt_file in labels['sub_file_name']:\n",
    "    # берем субтитр в виде текста\n",
    "    # предобрабатываем его \n",
    "    # переводим в датафрейм\n",
    "    # мерджим этот датафрейм со словарем (full outer)\n",
    "    # группируем по уровню сложности слова и извлекаем count и nunique по baseword\n",
    "    # то что не имеет уровня сложности относим к словам за его пределами (тоже важная статистика)\n",
    "    \n",
    "    \n",
    "    path_to_sub_txt = os.path.join(pwd, 'data\\\\Subtitles_plain_text\\\\')\n",
    "    path_to_sub_txt = os.path.join(path_to_sub_txt, sub_txt_file + '.txt')\n",
    "    # print(path_to_sub_txt)\n",
    "    \n",
    "    with open(path_to_sub_txt, 'r') as f:\n",
    "        sub_plain_text = f.read()\n",
    "        \n",
    "    sub_bag_of_words = spacy_str_preproc(sub_plain_text,nlp)\n",
    "    # print(sub_bag_of_words)\n",
    "    \n",
    "    sub_bag_of_words = pd.DataFrame(sub_bag_of_words,columns=['baseword'])\n",
    "    \n",
    "    sub_bag_of_words = sub_bag_of_words.merge(vocab_grouped,how='left')#left_on=0,right_on='baseword')\n",
    "    # display(sub_bag_of_words)\n",
    "    \n",
    "    \n",
    "    # Melting и перевод в одну строку, для объединения с labels\n",
    "    # display(sub_bag_of_words.groupby('level',dropna=False)['baseword'].agg(['count','nunique']))\n",
    "    # test = sub_bag_of_words.groupby('level',dropna=False)['baseword'].agg(['count','nunique'])\n",
    "    sub_word_count = sub_bag_of_words.groupby('level',dropna=False)['baseword'].agg(['count','nunique'])\n",
    "    sub_word_count.index = sub_word_count.index.fillna('not_in_vocab')\n",
    "    sub_word_count = pd.melt(sub_word_count,value_vars = ['count','nunique'],ignore_index=False)\n",
    "    sub_word_count = sub_word_count.set_index([sub_word_count.index,sub_word_count['variable']])\n",
    "    sub_word_count.index = ['_'.join(ind) for ind in sub_word_count.index.values]\n",
    "    sub_word_count = sub_word_count.drop(columns=['variable']).T\n",
    "    sub_word_count['sub_file_name'] = sub_txt_file\n",
    "    word_level_counts = pd.concat([word_level_counts,sub_word_count])\n",
    "    \n",
    "    # break\n",
    "    \n",
    "word_level_counts = word_level_counts.reset_index(drop=True)\n",
    "df = labels.merge(word_level_counts)"
   ]
  },
  {
   "cell_type": "markdown",
   "id": "b91bfa9b-f236-4f7c-b979-eef60309b86c",
   "metadata": {},
   "source": [
    "**Строку с кол-вом слов всего и уникальных слов нужно нормализовать по кол-ву слов в тексте!**"
   ]
  },
  {
   "cell_type": "code",
   "execution_count": 38,
   "id": "05512f69-ccfb-439d-92fb-758a4d13bda9",
   "metadata": {},
   "outputs": [],
   "source": [
    "# test\n",
    "# test2 = test.copy()\n",
    "# test2.index = test.index.fillna('not_in_vocab')\n",
    "# test2\n",
    "# test3 = pd.melt(test2,value_vars = ['count','nunique'],ignore_index=False)\n",
    "# # # test2\n",
    "# test3 = test3.set_index([test3.index,test3['variable']])\n",
    "# test3.index = ['_'.join(ind) for ind in test3.index.values]\n",
    "# test3 = test3.drop(columns=['variable'])\n",
    "# test3.T"
   ]
  },
  {
   "cell_type": "code",
   "execution_count": 39,
   "id": "c97c9732-1601-4c76-bb34-a01cd92355a8",
   "metadata": {},
   "outputs": [],
   "source": [
    "import matplotlib.pyplot as plt\n",
    "import seaborn as sns"
   ]
  },
  {
   "cell_type": "code",
   "execution_count": 40,
   "id": "f8eace77-b025-43f6-9186-a8074c1b8351",
   "metadata": {},
   "outputs": [
    {
     "data": {
      "text/html": [
       "<div>\n",
       "<style scoped>\n",
       "    .dataframe tbody tr th:only-of-type {\n",
       "        vertical-align: middle;\n",
       "    }\n",
       "\n",
       "    .dataframe tbody tr th {\n",
       "        vertical-align: top;\n",
       "    }\n",
       "\n",
       "    .dataframe thead th {\n",
       "        text-align: right;\n",
       "    }\n",
       "</style>\n",
       "<table border=\"1\" class=\"dataframe\">\n",
       "  <thead>\n",
       "    <tr style=\"text-align: right;\">\n",
       "      <th></th>\n",
       "      <th>Movie</th>\n",
       "      <th>Level</th>\n",
       "      <th>sub_file_name</th>\n",
       "      <th>A1_count</th>\n",
       "      <th>A2_count</th>\n",
       "      <th>B1_count</th>\n",
       "      <th>B2_count</th>\n",
       "      <th>C1_count</th>\n",
       "      <th>C2_count</th>\n",
       "      <th>not_in_vocab_count</th>\n",
       "      <th>A1_nunique</th>\n",
       "      <th>A2_nunique</th>\n",
       "      <th>B1_nunique</th>\n",
       "      <th>B2_nunique</th>\n",
       "      <th>C1_nunique</th>\n",
       "      <th>C2_nunique</th>\n",
       "      <th>not_in_vocab_nunique</th>\n",
       "    </tr>\n",
       "  </thead>\n",
       "  <tbody>\n",
       "    <tr>\n",
       "      <th>0</th>\n",
       "      <td>10 Cloverfield Lane</td>\n",
       "      <td>B1</td>\n",
       "      <td>10_Cloverfield_lane(2016).srt</td>\n",
       "      <td>487</td>\n",
       "      <td>328</td>\n",
       "      <td>180</td>\n",
       "      <td>133</td>\n",
       "      <td>17</td>\n",
       "      <td>50</td>\n",
       "      <td>4544</td>\n",
       "      <td>80</td>\n",
       "      <td>73</td>\n",
       "      <td>84</td>\n",
       "      <td>62</td>\n",
       "      <td>13</td>\n",
       "      <td>24</td>\n",
       "      <td>680</td>\n",
       "    </tr>\n",
       "    <tr>\n",
       "      <th>1</th>\n",
       "      <td>10 things I hate about you</td>\n",
       "      <td>B1</td>\n",
       "      <td>10_things_I_hate_about_you(1999).srt</td>\n",
       "      <td>759</td>\n",
       "      <td>527</td>\n",
       "      <td>243</td>\n",
       "      <td>159</td>\n",
       "      <td>41</td>\n",
       "      <td>53</td>\n",
       "      <td>7393</td>\n",
       "      <td>98</td>\n",
       "      <td>80</td>\n",
       "      <td>114</td>\n",
       "      <td>101</td>\n",
       "      <td>31</td>\n",
       "      <td>38</td>\n",
       "      <td>1096</td>\n",
       "    </tr>\n",
       "    <tr>\n",
       "      <th>2</th>\n",
       "      <td>A knight’s tale</td>\n",
       "      <td>B2</td>\n",
       "      <td>A_knights_tale(2001).srt</td>\n",
       "      <td>819</td>\n",
       "      <td>306</td>\n",
       "      <td>268</td>\n",
       "      <td>169</td>\n",
       "      <td>56</td>\n",
       "      <td>45</td>\n",
       "      <td>6189</td>\n",
       "      <td>91</td>\n",
       "      <td>72</td>\n",
       "      <td>97</td>\n",
       "      <td>83</td>\n",
       "      <td>28</td>\n",
       "      <td>35</td>\n",
       "      <td>1058</td>\n",
       "    </tr>\n",
       "    <tr>\n",
       "      <th>3</th>\n",
       "      <td>A star is born</td>\n",
       "      <td>B2</td>\n",
       "      <td>A_star_is_born(2018).srt</td>\n",
       "      <td>1310</td>\n",
       "      <td>1082</td>\n",
       "      <td>271</td>\n",
       "      <td>193</td>\n",
       "      <td>28</td>\n",
       "      <td>39</td>\n",
       "      <td>12489</td>\n",
       "      <td>113</td>\n",
       "      <td>94</td>\n",
       "      <td>90</td>\n",
       "      <td>62</td>\n",
       "      <td>14</td>\n",
       "      <td>17</td>\n",
       "      <td>1048</td>\n",
       "    </tr>\n",
       "    <tr>\n",
       "      <th>4</th>\n",
       "      <td>Aladdin</td>\n",
       "      <td>A2_A2+</td>\n",
       "      <td>Aladdin(1992).srt</td>\n",
       "      <td>675</td>\n",
       "      <td>471</td>\n",
       "      <td>336</td>\n",
       "      <td>186</td>\n",
       "      <td>52</td>\n",
       "      <td>54</td>\n",
       "      <td>7287</td>\n",
       "      <td>96</td>\n",
       "      <td>92</td>\n",
       "      <td>105</td>\n",
       "      <td>101</td>\n",
       "      <td>35</td>\n",
       "      <td>32</td>\n",
       "      <td>1199</td>\n",
       "    </tr>\n",
       "    <tr>\n",
       "      <th>...</th>\n",
       "      <td>...</td>\n",
       "      <td>...</td>\n",
       "      <td>...</td>\n",
       "      <td>...</td>\n",
       "      <td>...</td>\n",
       "      <td>...</td>\n",
       "      <td>...</td>\n",
       "      <td>...</td>\n",
       "      <td>...</td>\n",
       "      <td>...</td>\n",
       "      <td>...</td>\n",
       "      <td>...</td>\n",
       "      <td>...</td>\n",
       "      <td>...</td>\n",
       "      <td>...</td>\n",
       "      <td>...</td>\n",
       "      <td>...</td>\n",
       "    </tr>\n",
       "    <tr>\n",
       "      <th>81</th>\n",
       "      <td>Twilight</td>\n",
       "      <td>A2_A2+</td>\n",
       "      <td>Twilight(2008).srt</td>\n",
       "      <td>784</td>\n",
       "      <td>684</td>\n",
       "      <td>256</td>\n",
       "      <td>138</td>\n",
       "      <td>25</td>\n",
       "      <td>37</td>\n",
       "      <td>8160</td>\n",
       "      <td>110</td>\n",
       "      <td>90</td>\n",
       "      <td>102</td>\n",
       "      <td>69</td>\n",
       "      <td>18</td>\n",
       "      <td>23</td>\n",
       "      <td>1135</td>\n",
       "    </tr>\n",
       "    <tr>\n",
       "      <th>82</th>\n",
       "      <td>Up</td>\n",
       "      <td>A2_A2+</td>\n",
       "      <td>Up(2009).srt</td>\n",
       "      <td>1006</td>\n",
       "      <td>411</td>\n",
       "      <td>155</td>\n",
       "      <td>99</td>\n",
       "      <td>30</td>\n",
       "      <td>47</td>\n",
       "      <td>5040</td>\n",
       "      <td>87</td>\n",
       "      <td>78</td>\n",
       "      <td>69</td>\n",
       "      <td>48</td>\n",
       "      <td>15</td>\n",
       "      <td>21</td>\n",
       "      <td>837</td>\n",
       "    </tr>\n",
       "    <tr>\n",
       "      <th>83</th>\n",
       "      <td>Venom</td>\n",
       "      <td>B2</td>\n",
       "      <td>Venom(2018).srt</td>\n",
       "      <td>657</td>\n",
       "      <td>558</td>\n",
       "      <td>200</td>\n",
       "      <td>189</td>\n",
       "      <td>38</td>\n",
       "      <td>55</td>\n",
       "      <td>7414</td>\n",
       "      <td>87</td>\n",
       "      <td>78</td>\n",
       "      <td>83</td>\n",
       "      <td>84</td>\n",
       "      <td>25</td>\n",
       "      <td>25</td>\n",
       "      <td>1038</td>\n",
       "    </tr>\n",
       "    <tr>\n",
       "      <th>84</th>\n",
       "      <td>Warm bodies</td>\n",
       "      <td>B1</td>\n",
       "      <td>Warm_bodies(2013).srt</td>\n",
       "      <td>433</td>\n",
       "      <td>302</td>\n",
       "      <td>130</td>\n",
       "      <td>82</td>\n",
       "      <td>20</td>\n",
       "      <td>28</td>\n",
       "      <td>4291</td>\n",
       "      <td>65</td>\n",
       "      <td>54</td>\n",
       "      <td>58</td>\n",
       "      <td>38</td>\n",
       "      <td>11</td>\n",
       "      <td>13</td>\n",
       "      <td>680</td>\n",
       "    </tr>\n",
       "    <tr>\n",
       "      <th>85</th>\n",
       "      <td>We’re the Millers</td>\n",
       "      <td>B1</td>\n",
       "      <td>We_are_the_Millers(2013).srt</td>\n",
       "      <td>1406</td>\n",
       "      <td>1124</td>\n",
       "      <td>523</td>\n",
       "      <td>318</td>\n",
       "      <td>69</td>\n",
       "      <td>69</td>\n",
       "      <td>13415</td>\n",
       "      <td>134</td>\n",
       "      <td>131</td>\n",
       "      <td>151</td>\n",
       "      <td>125</td>\n",
       "      <td>38</td>\n",
       "      <td>28</td>\n",
       "      <td>1447</td>\n",
       "    </tr>\n",
       "  </tbody>\n",
       "</table>\n",
       "<p>86 rows × 17 columns</p>\n",
       "</div>"
      ],
      "text/plain": [
       "                         Movie   Level                         sub_file_name  \\\n",
       "0          10 Cloverfield Lane      B1         10_Cloverfield_lane(2016).srt   \n",
       "1   10 things I hate about you      B1  10_things_I_hate_about_you(1999).srt   \n",
       "2              A knight’s tale      B2              A_knights_tale(2001).srt   \n",
       "3               A star is born      B2              A_star_is_born(2018).srt   \n",
       "4                      Aladdin  A2_A2+                     Aladdin(1992).srt   \n",
       "..                         ...     ...                                   ...   \n",
       "81                    Twilight  A2_A2+                    Twilight(2008).srt   \n",
       "82                          Up  A2_A2+                          Up(2009).srt   \n",
       "83                       Venom      B2                       Venom(2018).srt   \n",
       "84                 Warm bodies      B1                 Warm_bodies(2013).srt   \n",
       "85           We’re the Millers      B1          We_are_the_Millers(2013).srt   \n",
       "\n",
       "    A1_count  A2_count  B1_count  B2_count  C1_count  C2_count  \\\n",
       "0        487       328       180       133        17        50   \n",
       "1        759       527       243       159        41        53   \n",
       "2        819       306       268       169        56        45   \n",
       "3       1310      1082       271       193        28        39   \n",
       "4        675       471       336       186        52        54   \n",
       "..       ...       ...       ...       ...       ...       ...   \n",
       "81       784       684       256       138        25        37   \n",
       "82      1006       411       155        99        30        47   \n",
       "83       657       558       200       189        38        55   \n",
       "84       433       302       130        82        20        28   \n",
       "85      1406      1124       523       318        69        69   \n",
       "\n",
       "    not_in_vocab_count  A1_nunique  A2_nunique  B1_nunique  B2_nunique  \\\n",
       "0                 4544          80          73          84          62   \n",
       "1                 7393          98          80         114         101   \n",
       "2                 6189          91          72          97          83   \n",
       "3                12489         113          94          90          62   \n",
       "4                 7287          96          92         105         101   \n",
       "..                 ...         ...         ...         ...         ...   \n",
       "81                8160         110          90         102          69   \n",
       "82                5040          87          78          69          48   \n",
       "83                7414          87          78          83          84   \n",
       "84                4291          65          54          58          38   \n",
       "85               13415         134         131         151         125   \n",
       "\n",
       "    C1_nunique  C2_nunique  not_in_vocab_nunique  \n",
       "0           13          24                   680  \n",
       "1           31          38                  1096  \n",
       "2           28          35                  1058  \n",
       "3           14          17                  1048  \n",
       "4           35          32                  1199  \n",
       "..         ...         ...                   ...  \n",
       "81          18          23                  1135  \n",
       "82          15          21                   837  \n",
       "83          25          25                  1038  \n",
       "84          11          13                   680  \n",
       "85          38          28                  1447  \n",
       "\n",
       "[86 rows x 17 columns]"
      ]
     },
     "execution_count": 40,
     "metadata": {},
     "output_type": "execute_result"
    }
   ],
   "source": [
    "df"
   ]
  },
  {
   "cell_type": "code",
   "execution_count": 41,
   "id": "72c2ace0-e08d-44d5-afe0-7f54f5f41a4f",
   "metadata": {},
   "outputs": [
    {
     "data": {
      "image/png": "[encoded data removed]",
      "text/plain": [
       "<Figure size 432x288 with 1 Axes>"
      ]
     },
     "metadata": {
      "needs_background": "light"
     },
     "output_type": "display_data"
    },
    {
     "data": {
      "image/png": "[encoded data removed]",
      "text/plain": [
       "<Figure size 432x288 with 1 Axes>"
      ]
     },
     "metadata": {
      "needs_background": "light"
     },
     "output_type": "display_data"
    },
    {
     "data": {
      "image/png": "[encoded data removed]",
      "text/plain": [
       "<Figure size 432x288 with 1 Axes>"
      ]
     },
     "metadata": {
      "needs_background": "light"
     },
     "output_type": "display_data"
    },
    {
     "data": {
      "image/png": "[encoded data removed]",
      "text/plain": [
       "<Figure size 432x288 with 1 Axes>"
      ]
     },
     "metadata": {
      "needs_background": "light"
     },
     "output_type": "display_data"
    },
    {
     "data": {
      "image/png": "[encoded data removed]",
      "text/plain": [
       "<Figure size 432x288 with 1 Axes>"
      ]
     },
     "metadata": {
      "needs_background": "light"
     },
     "output_type": "display_data"
    },
    {
     "data": {
      "image/png": "[encoded data removed]",
      "text/plain": [
       "<Figure size 432x288 with 1 Axes>"
      ]
     },
     "metadata": {
      "needs_background": "light"
     },
     "output_type": "display_data"
    },
    {
     "data": {
      "image/png": "[encoded data removed]",
      "text/plain": [
       "<Figure size 432x288 with 1 Axes>"
      ]
     },
     "metadata": {
      "needs_background": "light"
     },
     "output_type": "display_data"
    }
   ],
   "source": [
    "for col in ['A1_count','A2_count','B1_count','B2_count','C1_count','C2_count','not_in_vocab_count']:\n",
    "    sns.boxplot(data=df,x='Level',y=col).set_title(col)\n",
    "    plt.show()"
   ]
  },
  {
   "cell_type": "code",
   "execution_count": 42,
   "id": "f7234a7b-dc4c-4e4b-99f9-b8c52722789d",
   "metadata": {},
   "outputs": [
    {
     "data": {
      "image/png": "[encoded data removed]",
      "text/plain": [
       "<Figure size 432x288 with 1 Axes>"
      ]
     },
     "metadata": {
      "needs_background": "light"
     },
     "output_type": "display_data"
    },
    {
     "data": {
      "image/png": "[encoded data removed]",
      "text/plain": [
       "<Figure size 432x288 with 1 Axes>"
      ]
     },
     "metadata": {
      "needs_background": "light"
     },
     "output_type": "display_data"
    },
    {
     "data": {
      "image/png": "[encoded data removed]",
      "text/plain": [
       "<Figure size 432x288 with 1 Axes>"
      ]
     },
     "metadata": {
      "needs_background": "light"
     },
     "output_type": "display_data"
    },
    {
     "data": {
      "image/png": "[encoded data removed]",
      "text/plain": [
       "<Figure size 432x288 with 1 Axes>"
      ]
     },
     "metadata": {
      "needs_background": "light"
     },
     "output_type": "display_data"
    },
    {
     "data": {
      "image/png": "[encoded data removed]",
      "text/plain": [
       "<Figure size 432x288 with 1 Axes>"
      ]
     },
     "metadata": {
      "needs_background": "light"
     },
     "output_type": "display_data"
    },
    {
     "data": {
      "image/png": "[encoded data removed]",
      "text/plain": [
       "<Figure size 432x288 with 1 Axes>"
      ]
     },
     "metadata": {
      "needs_background": "light"
     },
     "output_type": "display_data"
    },
    {
     "data": {
      "image/png": "[encoded data removed]",
      "text/plain": [
       "<Figure size 432x288 with 1 Axes>"
      ]
     },
     "metadata": {
      "needs_background": "light"
     },
     "output_type": "display_data"
    }
   ],
   "source": [
    "for col in ['A1_nunique','A2_nunique','B1_nunique','B2_nunique','C1_nunique','C2_nunique','not_in_vocab_nunique']:\n",
    "    sns.boxplot(data=df,x='Level',y=col).set_title(col)\n",
    "    plt.show()"
   ]
  },
  {
   "cell_type": "markdown",
   "id": "375ae961-411a-4230-8c32-5b528ba89f0d",
   "metadata": {},
   "source": [
    "Распределения отличаются, но надо помнить о кол-ве субтитров каждого уровня."
   ]
  },
  {
   "cell_type": "code",
   "execution_count": 43,
   "id": "c4cf621f-c12c-40cd-a6e6-8a9506baeb81",
   "metadata": {},
   "outputs": [
    {
     "data": {
      "text/plain": [
       "B1            28\n",
       "A2_A2+        26\n",
       "B2            19\n",
       "B1, B2         8\n",
       "A2_A2+, B1     5\n",
       "Name: Level, dtype: int64"
      ]
     },
     "execution_count": 43,
     "metadata": {},
     "output_type": "execute_result"
    }
   ],
   "source": [
    "df['Level'].value_counts()"
   ]
  },
  {
   "cell_type": "markdown",
   "id": "687d96b4-3b7e-42f8-a4d5-3edf2a217128",
   "metadata": {},
   "source": [
    "Это указание к необходимости выправить таргет."
   ]
  },
  {
   "cell_type": "markdown",
   "id": "2a804cc9-c776-4eb6-b5b0-58c53ef9b5e5",
   "metadata": {},
   "source": [
    "**Выводы не верны.**\n",
    "**Строку с кол-вом слов всего и уникальных слов нужно нормализовать.**"
   ]
  },
  {
   "cell_type": "markdown",
   "id": "ae8ccff9-01c6-44ff-a7d1-80fb8facf51f",
   "metadata": {},
   "source": [
    "Посчитаем общее кол-во слов и уникальных в субтитрах и сравним по уровню."
   ]
  },
  {
   "cell_type": "code",
   "execution_count": 44,
   "id": "1105eea8-a2be-4187-ad0f-eae08d2a49b7",
   "metadata": {},
   "outputs": [],
   "source": [
    "df['word_count'] = df.loc[:,['A1_count','A2_count','B1_count','B2_count','C1_count','C2_count','not_in_vocab_count']].sum(axis=1)\n",
    "df['word_nunique'] = df.loc[:,['A1_nunique','A2_nunique','B1_nunique','B2_nunique','C1_nunique','C2_nunique','not_in_vocab_nunique']].sum(axis=1)"
   ]
  },
  {
   "cell_type": "code",
   "execution_count": 45,
   "id": "e6855637-55fe-4e65-891a-20ca298ec739",
   "metadata": {},
   "outputs": [
    {
     "data": {
      "text/html": [
       "<div>\n",
       "<style scoped>\n",
       "    .dataframe tbody tr th:only-of-type {\n",
       "        vertical-align: middle;\n",
       "    }\n",
       "\n",
       "    .dataframe tbody tr th {\n",
       "        vertical-align: top;\n",
       "    }\n",
       "\n",
       "    .dataframe thead th {\n",
       "        text-align: right;\n",
       "    }\n",
       "</style>\n",
       "<table border=\"1\" class=\"dataframe\">\n",
       "  <thead>\n",
       "    <tr style=\"text-align: right;\">\n",
       "      <th></th>\n",
       "      <th>Movie</th>\n",
       "      <th>Level</th>\n",
       "      <th>sub_file_name</th>\n",
       "      <th>A1_count</th>\n",
       "      <th>A2_count</th>\n",
       "      <th>B1_count</th>\n",
       "      <th>B2_count</th>\n",
       "      <th>C1_count</th>\n",
       "      <th>C2_count</th>\n",
       "      <th>not_in_vocab_count</th>\n",
       "      <th>A1_nunique</th>\n",
       "      <th>A2_nunique</th>\n",
       "      <th>B1_nunique</th>\n",
       "      <th>B2_nunique</th>\n",
       "      <th>C1_nunique</th>\n",
       "      <th>C2_nunique</th>\n",
       "      <th>not_in_vocab_nunique</th>\n",
       "      <th>word_count</th>\n",
       "      <th>word_nunique</th>\n",
       "    </tr>\n",
       "  </thead>\n",
       "  <tbody>\n",
       "    <tr>\n",
       "      <th>0</th>\n",
       "      <td>10 Cloverfield Lane</td>\n",
       "      <td>B1</td>\n",
       "      <td>10_Cloverfield_lane(2016).srt</td>\n",
       "      <td>487</td>\n",
       "      <td>328</td>\n",
       "      <td>180</td>\n",
       "      <td>133</td>\n",
       "      <td>17</td>\n",
       "      <td>50</td>\n",
       "      <td>4544</td>\n",
       "      <td>80</td>\n",
       "      <td>73</td>\n",
       "      <td>84</td>\n",
       "      <td>62</td>\n",
       "      <td>13</td>\n",
       "      <td>24</td>\n",
       "      <td>680</td>\n",
       "      <td>5739</td>\n",
       "      <td>1016</td>\n",
       "    </tr>\n",
       "    <tr>\n",
       "      <th>1</th>\n",
       "      <td>10 things I hate about you</td>\n",
       "      <td>B1</td>\n",
       "      <td>10_things_I_hate_about_you(1999).srt</td>\n",
       "      <td>759</td>\n",
       "      <td>527</td>\n",
       "      <td>243</td>\n",
       "      <td>159</td>\n",
       "      <td>41</td>\n",
       "      <td>53</td>\n",
       "      <td>7393</td>\n",
       "      <td>98</td>\n",
       "      <td>80</td>\n",
       "      <td>114</td>\n",
       "      <td>101</td>\n",
       "      <td>31</td>\n",
       "      <td>38</td>\n",
       "      <td>1096</td>\n",
       "      <td>9175</td>\n",
       "      <td>1558</td>\n",
       "    </tr>\n",
       "    <tr>\n",
       "      <th>2</th>\n",
       "      <td>A knight’s tale</td>\n",
       "      <td>B2</td>\n",
       "      <td>A_knights_tale(2001).srt</td>\n",
       "      <td>819</td>\n",
       "      <td>306</td>\n",
       "      <td>268</td>\n",
       "      <td>169</td>\n",
       "      <td>56</td>\n",
       "      <td>45</td>\n",
       "      <td>6189</td>\n",
       "      <td>91</td>\n",
       "      <td>72</td>\n",
       "      <td>97</td>\n",
       "      <td>83</td>\n",
       "      <td>28</td>\n",
       "      <td>35</td>\n",
       "      <td>1058</td>\n",
       "      <td>7852</td>\n",
       "      <td>1464</td>\n",
       "    </tr>\n",
       "    <tr>\n",
       "      <th>3</th>\n",
       "      <td>A star is born</td>\n",
       "      <td>B2</td>\n",
       "      <td>A_star_is_born(2018).srt</td>\n",
       "      <td>1310</td>\n",
       "      <td>1082</td>\n",
       "      <td>271</td>\n",
       "      <td>193</td>\n",
       "      <td>28</td>\n",
       "      <td>39</td>\n",
       "      <td>12489</td>\n",
       "      <td>113</td>\n",
       "      <td>94</td>\n",
       "      <td>90</td>\n",
       "      <td>62</td>\n",
       "      <td>14</td>\n",
       "      <td>17</td>\n",
       "      <td>1048</td>\n",
       "      <td>15412</td>\n",
       "      <td>1438</td>\n",
       "    </tr>\n",
       "    <tr>\n",
       "      <th>4</th>\n",
       "      <td>Aladdin</td>\n",
       "      <td>A2_A2+</td>\n",
       "      <td>Aladdin(1992).srt</td>\n",
       "      <td>675</td>\n",
       "      <td>471</td>\n",
       "      <td>336</td>\n",
       "      <td>186</td>\n",
       "      <td>52</td>\n",
       "      <td>54</td>\n",
       "      <td>7287</td>\n",
       "      <td>96</td>\n",
       "      <td>92</td>\n",
       "      <td>105</td>\n",
       "      <td>101</td>\n",
       "      <td>35</td>\n",
       "      <td>32</td>\n",
       "      <td>1199</td>\n",
       "      <td>9061</td>\n",
       "      <td>1660</td>\n",
       "    </tr>\n",
       "  </tbody>\n",
       "</table>\n",
       "</div>"
      ],
      "text/plain": [
       "                        Movie   Level                         sub_file_name  \\\n",
       "0         10 Cloverfield Lane      B1         10_Cloverfield_lane(2016).srt   \n",
       "1  10 things I hate about you      B1  10_things_I_hate_about_you(1999).srt   \n",
       "2             A knight’s tale      B2              A_knights_tale(2001).srt   \n",
       "3              A star is born      B2              A_star_is_born(2018).srt   \n",
       "4                     Aladdin  A2_A2+                     Aladdin(1992).srt   \n",
       "\n",
       "   A1_count  A2_count  B1_count  B2_count  C1_count  C2_count  \\\n",
       "0       487       328       180       133        17        50   \n",
       "1       759       527       243       159        41        53   \n",
       "2       819       306       268       169        56        45   \n",
       "3      1310      1082       271       193        28        39   \n",
       "4       675       471       336       186        52        54   \n",
       "\n",
       "   not_in_vocab_count  A1_nunique  A2_nunique  B1_nunique  B2_nunique  \\\n",
       "0                4544          80          73          84          62   \n",
       "1                7393          98          80         114         101   \n",
       "2                6189          91          72          97          83   \n",
       "3               12489         113          94          90          62   \n",
       "4                7287          96          92         105         101   \n",
       "\n",
       "   C1_nunique  C2_nunique  not_in_vocab_nunique  word_count  word_nunique  \n",
       "0          13          24                   680        5739          1016  \n",
       "1          31          38                  1096        9175          1558  \n",
       "2          28          35                  1058        7852          1464  \n",
       "3          14          17                  1048       15412          1438  \n",
       "4          35          32                  1199        9061          1660  "
      ]
     },
     "execution_count": 45,
     "metadata": {},
     "output_type": "execute_result"
    }
   ],
   "source": [
    "df.head()"
   ]
  },
  {
   "cell_type": "code",
   "execution_count": 46,
   "id": "3da0493c-923e-49cc-8090-72f5d020e288",
   "metadata": {},
   "outputs": [
    {
     "data": {
      "image/png": "[encoded data removed]",
      "text/plain": [
       "<Figure size 864x720 with 1 Axes>"
      ]
     },
     "metadata": {
      "needs_background": "light"
     },
     "output_type": "display_data"
    }
   ],
   "source": [
    "plt.figure(figsize=(12,10))\n",
    "sns.boxplot(data=df,x='Level',y='word_count')\n",
    "plt.show()"
   ]
  },
  {
   "cell_type": "markdown",
   "id": "2a5f667a-f605-405e-bc23-eed14684df27",
   "metadata": {},
   "source": [
    "Можно предположить какую-то предсказательную силу кол-ва слов.  \n",
    "Помним о малом кол-ве субтитров уровней `B1,B2` `A2_A2+,B1`"
   ]
  },
  {
   "cell_type": "code",
   "execution_count": 47,
   "id": "88377f9a-e0fe-43d5-8915-9ae420fb0463",
   "metadata": {},
   "outputs": [
    {
     "data": {
      "image/png": "[encoded data removed]",
      "text/plain": [
       "<Figure size 864x720 with 1 Axes>"
      ]
     },
     "metadata": {
      "needs_background": "light"
     },
     "output_type": "display_data"
    }
   ],
   "source": [
    "plt.figure(figsize=(12,10))\n",
    "sns.boxplot(data=df,x='Level',y='word_nunique')\n",
    "plt.show()"
   ]
  },
  {
   "cell_type": "markdown",
   "id": "257c8c76-c2b8-4203-a53f-cefa169a2830",
   "metadata": {},
   "source": [
    "Тут нет какой-то четкой картины и возникает предположение о необходимости сравнить эти распределения каждого уровня с общим распределением слов всех доступных нам субтитров.  \n",
    "Не факт, что отличия этих уровней являются характеристикой именно уровня, а не в целом, например, кол-ва слов и кол-ва уникальных слов субтитров в целом.  "
   ]
  },
  {
   "cell_type": "markdown",
   "id": "bebeaef7-c59a-4933-91e1-eff0b2b02738",
   "metadata": {},
   "source": [
    "## Пайплайн для тренировки логистической регрессии `[RAW]`"
   ]
  },
  {
   "cell_type": "code",
   "execution_count": 48,
   "id": "1da3f948-d818-467d-bd67-2e9deec133dd",
   "metadata": {},
   "outputs": [
    {
     "name": "stderr",
     "output_type": "stream",
     "text": [
      "[nltk_data] Downloading package stopwords to\n",
      "[nltk_data]     C:\\Users\\SnakeRZR\\AppData\\Roaming\\nltk_data...\n",
      "[nltk_data]   Package stopwords is already up-to-date!\n"
     ]
    }
   ],
   "source": [
    "import numpy as np\n",
    "import re\n",
    "import nltk\n",
    "from sklearn.datasets import load_files\n",
    "nltk.download('stopwords')\n",
    "# nltk.download('wordnet')\n",
    "# nltk.download('omw-1.4')\n",
    "import pickle\n",
    "from nltk.corpus import stopwords\n",
    "\n",
    "from nltk.stem import WordNetLemmatizer\n",
    "\n",
    "from sklearn.linear_model import LogisticRegression\n",
    "\n",
    "from sklearn.feature_extraction.text import CountVectorizer\n",
    "\n",
    "from sklearn.feature_extraction.text import TfidfTransformer\n",
    "\n",
    "from sklearn.model_selection import train_test_split\n",
    "\n",
    "from sklearn.metrics import classification_report, confusion_matrix, accuracy_score\n",
    "\n",
    "from sklearn.model_selection import cross_val_score"
   ]
  },
  {
   "cell_type": "code",
   "execution_count": 49,
   "id": "9658163f-a788-47eb-8e12-fe6f5ad07bd1",
   "metadata": {
    "tags": []
   },
   "outputs": [],
   "source": [
    "def load_data_(path_to_files):\n",
    "    movie_data = load_files(path_to_files)\n",
    "    X, y = movie_data.data, movie_data.target\n",
    "\n",
    "    return X,y\n",
    "\n",
    "X,y = load_data_('data/Subtitles_multi_binary/B1/')\n",
    "# print(len(X))\n",
    "# del X,y"
   ]
  },
  {
   "cell_type": "code",
   "execution_count": null,
   "id": "0c32e8a5-b8c9-4308-98dd-9983d3b6c835",
   "metadata": {},
   "outputs": [],
   "source": []
  },
  {
   "cell_type": "code",
   "execution_count": 50,
   "id": "5c23d668-1693-4596-956d-038e80e68c07",
   "metadata": {},
   "outputs": [],
   "source": [
    "def stem(X):\n",
    "    documents = []\n",
    "    \n",
    "    word_net = WordNetLemmatizer() \n",
    "\n",
    "    for sen in range(0, len(X)):\n",
    "#         Удаление спец символов и цифр\n",
    "        document = re.sub(\"(\\\\W|\\\\d)\",\"\",str(X[sen]))\n",
    "\n",
    "        # remove all single characters\n",
    "        document = re.sub(r'\\s+[a-zA-Z]\\s+', ' ', document)\n",
    "\n",
    "        # Remove single characters from the start\n",
    "        document = re.sub(r'\\^[a-zA-Z]\\s+', ' ', document) \n",
    "\n",
    "        # Substituting multiple spaces with single space\n",
    "        document = re.sub(r'\\s+', ' ', document, flags=re.I)\n",
    "\n",
    "        # Removing prefixed 'b'\n",
    "        document = re.sub(r'^b\\s+', '', document)\n",
    "\n",
    "        # Converting to Lowercase\n",
    "        document = document.lower()\n",
    "\n",
    "        # stemmin\n",
    "        document = document.split()\n",
    "\n",
    "        document = [word_net.lemmatize(word) for word in document]\n",
    "        document = ' '.join(document)\n",
    "\n",
    "        documents.append(document)\n",
    "    return documents\n",
    "\n",
    "# len(stem(X))"
   ]
  },
  {
   "cell_type": "code",
   "execution_count": 51,
   "id": "06737edd-0fa3-45a8-8245-9907e19d0b7d",
   "metadata": {},
   "outputs": [],
   "source": [
    "def count_vectorize_(X):\n",
    "    vectorizer = CountVectorizer(\n",
    "                            # max_features=1500, \n",
    "                             # min_df=5, \n",
    "                             # max_df=0.7, \n",
    "                             # stop_words=stopwords.words('english'),\n",
    "                            vocabulary=vocab_for_cvect,\n",
    "                            ngram_range = (1,1)\n",
    "                            )\n",
    "    X = vectorizer.fit_transform(X).toarray()\n",
    "    return X\n",
    "# count_vectorize_(X).shape"
   ]
  },
  {
   "cell_type": "code",
   "execution_count": 52,
   "id": "a49f33af-3a51-4ede-a269-1e661f8119c6",
   "metadata": {},
   "outputs": [],
   "source": [
    "def tfidf_transform_(X):\n",
    "    tfidfconverter = TfidfTransformer()\n",
    "    X = tfidfconverter.fit_transform(X).toarray()\n",
    "    return X"
   ]
  },
  {
   "cell_type": "code",
   "execution_count": 53,
   "id": "0846de08-1941-49b8-a236-d3dd12896884",
   "metadata": {},
   "outputs": [
    {
     "name": "stdout",
     "output_type": "stream",
     "text": [
      "\n",
      "Class balance:\n",
      "1    58\n",
      "0    28\n",
      "dtype: int64\n",
      "\n",
      "cross_val_score(logreg,X,y,cv=5,scoring='roc_auc')\n",
      "[0.5 0.5 0.5 0.5 0.5]\n",
      "\n",
      "X_train.shape: (51, 4843)\n",
      "X_test.shape: (35, 4843)\n",
      "\n",
      "confusion_matrix(y_test,y_pred)\n",
      "[[ 0 11]\n",
      " [ 0 24]]\n",
      "\n",
      "classification_report(y_test,y_pred)\n",
      "              precision    recall  f1-score   support\n",
      "\n",
      "           0       0.00      0.00      0.00        11\n",
      "           1       0.69      1.00      0.81        24\n",
      "\n",
      "    accuracy                           0.69        35\n",
      "   macro avg       0.34      0.50      0.41        35\n",
      "weighted avg       0.47      0.69      0.56        35\n",
      "\n",
      "\n",
      "accuracy_score(y_test, y_pred)\n",
      "0.6857142857142857\n",
      "\n"
     ]
    },
    {
     "name": "stderr",
     "output_type": "stream",
     "text": [
      "C:\\Users\\SnakeRZR\\Desktop\\projects\\film_level_estimator\\env\\lib\\site-packages\\sklearn\\metrics\\_classification.py:1327: UndefinedMetricWarning: Precision and F-score are ill-defined and being set to 0.0 in labels with no predicted samples. Use `zero_division` parameter to control this behavior.\n",
      "  _warn_prf(average, modifier, msg_start, len(result))\n",
      "C:\\Users\\SnakeRZR\\Desktop\\projects\\film_level_estimator\\env\\lib\\site-packages\\sklearn\\metrics\\_classification.py:1327: UndefinedMetricWarning: Precision and F-score are ill-defined and being set to 0.0 in labels with no predicted samples. Use `zero_division` parameter to control this behavior.\n",
      "  _warn_prf(average, modifier, msg_start, len(result))\n",
      "C:\\Users\\SnakeRZR\\Desktop\\projects\\film_level_estimator\\env\\lib\\site-packages\\sklearn\\metrics\\_classification.py:1327: UndefinedMetricWarning: Precision and F-score are ill-defined and being set to 0.0 in labels with no predicted samples. Use `zero_division` parameter to control this behavior.\n",
      "  _warn_prf(average, modifier, msg_start, len(result))\n"
     ]
    }
   ],
   "source": [
    "def pipeline_(path_to_files):\n",
    "    X, y = load_data_(path_to_files)\n",
    "    print()\n",
    "    print('Class balance:')\n",
    "    print(pd.DataFrame(y).value_counts())\n",
    "    print()\n",
    "    \n",
    "    \n",
    "    X = stem(X)\n",
    "        \n",
    "    X = count_vectorize_(X)\n",
    "    \n",
    "    \n",
    "    # X = tfidf_transform_(X)\n",
    "    \n",
    "    X_train, X_test, y_train, y_test = train_test_split(X, y, test_size=0.4, random_state=0, \n",
    "                                                    stratify=y\n",
    "                                                   )\n",
    "\n",
    "    logreg = LogisticRegression()\n",
    "    \n",
    "    print(\"cross_val_score(logreg,X,y,cv=5,scoring='roc_auc')\")\n",
    "    cv = cross_val_score(logreg,X,y,cv=5,scoring='roc_auc')\n",
    "    print(cv)\n",
    "    print()\n",
    "    \n",
    "    logreg.fit(X_train,y_train)\n",
    "    y_pred = logreg.predict(X_test)\n",
    "    \n",
    "    print('X_train.shape:', X_train.shape)\n",
    "    print('X_test.shape:', X_test.shape)\n",
    "    print()\n",
    "    print('confusion_matrix(y_test,y_pred)')\n",
    "    print(confusion_matrix(y_test,y_pred))\n",
    "    print()\n",
    "    print('classification_report(y_test,y_pred)')\n",
    "    print(classification_report(y_test,y_pred))\n",
    "    print()\n",
    "    print('accuracy_score(y_test, y_pred)')\n",
    "    print(accuracy_score(y_test, y_pred))\n",
    "    print()\n",
    "    \n",
    "pipeline_('data/Subtitles_multi_binary/B1//')    # binary\n",
    "# pipeline_('data/Subtitles_multiclass/')    # multiclass"
   ]
  },
  {
   "cell_type": "markdown",
   "id": "b5014cc3-3274-4d84-85b0-b70b42f7ec67",
   "metadata": {},
   "source": [
    "## Оценка моделей бинарной классификации для каждого уровня `[RAW]`"
   ]
  },
  {
   "cell_type": "code",
   "execution_count": 54,
   "id": "ea285d9a-86b2-4eac-9f8b-39afd4267641",
   "metadata": {},
   "outputs": [],
   "source": [
    "levels = os.listdir('data/Subtitles_multi_binary/')"
   ]
  },
  {
   "cell_type": "code",
   "execution_count": 55,
   "id": "17200b2c-5817-4351-9be3-0be0bf133a8a",
   "metadata": {},
   "outputs": [
    {
     "name": "stdout",
     "output_type": "stream",
     "text": [
      "A2_A2+\n",
      "Path to level:\n",
      "C:\\Users\\SnakeRZR\\Desktop\\projects\\film_level_estimator\\data\\Subtitles_multi_binary\\A2_A2+\n",
      "\n",
      "Class balance:\n",
      "1    60\n",
      "0    26\n",
      "dtype: int64\n",
      "\n",
      "cross_val_score(logreg,X,y,cv=5,scoring='roc_auc')\n",
      "[0.5 0.5 0.5 0.5 0.5]\n",
      "\n",
      "X_train.shape: (51, 4843)\n",
      "X_test.shape: (35, 4843)\n",
      "\n",
      "confusion_matrix(y_test,y_pred)\n",
      "[[ 0 11]\n",
      " [ 0 24]]\n",
      "\n",
      "classification_report(y_test,y_pred)\n",
      "              precision    recall  f1-score   support\n",
      "\n",
      "           0       0.00      0.00      0.00        11\n",
      "           1       0.69      1.00      0.81        24\n",
      "\n",
      "    accuracy                           0.69        35\n",
      "   macro avg       0.34      0.50      0.41        35\n",
      "weighted avg       0.47      0.69      0.56        35\n",
      "\n",
      "\n",
      "accuracy_score(y_test, y_pred)\n",
      "0.6857142857142857\n",
      "\n",
      "A2_A2+, B1\n",
      "Path to level:\n",
      "C:\\Users\\SnakeRZR\\Desktop\\projects\\film_level_estimator\\data\\Subtitles_multi_binary\\A2_A2+, B1\n",
      "\n",
      "Class balance:\n",
      "1    81\n",
      "0     5\n",
      "dtype: int64\n",
      "\n",
      "cross_val_score(logreg,X,y,cv=5,scoring='roc_auc')\n",
      "[0.5 0.5 0.5 0.5 0.5]\n",
      "\n",
      "X_train.shape: (51, 4843)\n",
      "X_test.shape: (35, 4843)\n",
      "\n",
      "confusion_matrix(y_test,y_pred)\n",
      "[[ 0  2]\n",
      " [ 0 33]]\n",
      "\n",
      "classification_report(y_test,y_pred)\n",
      "              precision    recall  f1-score   support\n",
      "\n",
      "           0       0.00      0.00      0.00         2\n",
      "           1       0.94      1.00      0.97        33\n",
      "\n",
      "    accuracy                           0.94        35\n",
      "   macro avg       0.47      0.50      0.49        35\n",
      "weighted avg       0.89      0.94      0.92        35\n",
      "\n",
      "\n",
      "accuracy_score(y_test, y_pred)\n",
      "0.9428571428571428\n",
      "\n",
      "B1\n",
      "Path to level:\n",
      "C:\\Users\\SnakeRZR\\Desktop\\projects\\film_level_estimator\\data\\Subtitles_multi_binary\\B1\n",
      "\n",
      "Class balance:\n",
      "1    58\n",
      "0    28\n",
      "dtype: int64\n",
      "\n",
      "cross_val_score(logreg,X,y,cv=5,scoring='roc_auc')\n",
      "[0.5 0.5 0.5 0.5 0.5]\n",
      "\n",
      "X_train.shape: (51, 4843)\n",
      "X_test.shape: (35, 4843)\n",
      "\n",
      "confusion_matrix(y_test,y_pred)\n",
      "[[ 0 11]\n",
      " [ 0 24]]\n",
      "\n",
      "classification_report(y_test,y_pred)\n",
      "              precision    recall  f1-score   support\n",
      "\n",
      "           0       0.00      0.00      0.00        11\n",
      "           1       0.69      1.00      0.81        24\n",
      "\n",
      "    accuracy                           0.69        35\n",
      "   macro avg       0.34      0.50      0.41        35\n",
      "weighted avg       0.47      0.69      0.56        35\n",
      "\n",
      "\n",
      "accuracy_score(y_test, y_pred)\n",
      "0.6857142857142857\n",
      "\n",
      "B1, B2\n",
      "Path to level:\n",
      "C:\\Users\\SnakeRZR\\Desktop\\projects\\film_level_estimator\\data\\Subtitles_multi_binary\\B1, B2\n",
      "\n",
      "Class balance:\n",
      "1    78\n",
      "0     8\n",
      "dtype: int64\n",
      "\n",
      "cross_val_score(logreg,X,y,cv=5,scoring='roc_auc')\n",
      "[0.5 0.5 0.5 0.5 0.5]\n",
      "\n",
      "X_train.shape: (51, 4843)\n",
      "X_test.shape: (35, 4843)\n",
      "\n",
      "confusion_matrix(y_test,y_pred)\n",
      "[[ 0  3]\n",
      " [ 0 32]]\n",
      "\n",
      "classification_report(y_test,y_pred)\n",
      "              precision    recall  f1-score   support\n",
      "\n",
      "           0       0.00      0.00      0.00         3\n",
      "           1       0.91      1.00      0.96        32\n",
      "\n",
      "    accuracy                           0.91        35\n",
      "   macro avg       0.46      0.50      0.48        35\n",
      "weighted avg       0.84      0.91      0.87        35\n",
      "\n",
      "\n",
      "accuracy_score(y_test, y_pred)\n",
      "0.9142857142857143\n",
      "\n",
      "B2\n",
      "Path to level:\n",
      "C:\\Users\\SnakeRZR\\Desktop\\projects\\film_level_estimator\\data\\Subtitles_multi_binary\\B2\n",
      "\n",
      "Class balance:\n",
      "1    67\n",
      "0    19\n",
      "dtype: int64\n",
      "\n",
      "cross_val_score(logreg,X,y,cv=5,scoring='roc_auc')\n",
      "[0.5 0.5 0.5 0.5 0.5]\n",
      "\n",
      "X_train.shape: (51, 4843)\n",
      "X_test.shape: (35, 4843)\n",
      "\n",
      "confusion_matrix(y_test,y_pred)\n",
      "[[ 0  8]\n",
      " [ 0 27]]\n",
      "\n",
      "classification_report(y_test,y_pred)\n",
      "              precision    recall  f1-score   support\n",
      "\n",
      "           0       0.00      0.00      0.00         8\n",
      "           1       0.77      1.00      0.87        27\n",
      "\n",
      "    accuracy                           0.77        35\n",
      "   macro avg       0.39      0.50      0.44        35\n",
      "weighted avg       0.60      0.77      0.67        35\n",
      "\n",
      "\n",
      "accuracy_score(y_test, y_pred)\n",
      "0.7714285714285715\n",
      "\n"
     ]
    }
   ],
   "source": [
    "with warnings.catch_warnings():\n",
    "    warnings.simplefilter(\"ignore\")\n",
    "    for level in levels:\n",
    "        pwd = os.path.abspath(os.getcwd())\n",
    "        path_to_level = os.path.join(pwd,r'data\\Subtitles_multi_binary')\n",
    "        path_to_level = os.path.join(path_to_level, level)\n",
    "        print(level)\n",
    "        print('Path to level:')\n",
    "        print(path_to_level)\n",
    "        pipeline_(path_to_level)"
   ]
  }
 ],
 "metadata": {
  "kernelspec": {
   "display_name": "Python 3 (ipykernel)",
   "language": "python",
   "name": "python3"
  },
  "language_info": {
   "codemirror_mode": {
    "name": "ipython",
    "version": 3
   },
   "file_extension": ".py",
   "mimetype": "text/x-python",
   "name": "python",
   "nbconvert_exporter": "python",
   "pygments_lexer": "ipython3",
   "version": "3.10.4"
  }
 },
 "nbformat": 4,
 "nbformat_minor": 5
}
